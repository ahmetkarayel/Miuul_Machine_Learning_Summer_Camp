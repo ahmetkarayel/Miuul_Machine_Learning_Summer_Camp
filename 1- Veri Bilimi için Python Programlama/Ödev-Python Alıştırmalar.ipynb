{
 "cells": [
  {
   "cell_type": "markdown",
   "id": "47fdff18-9298-4e50-a7e8-9044c6898d4b",
   "metadata": {},
   "source": [
    "# Görev-1"
   ]
  },
  {
   "cell_type": "markdown",
   "id": "761b950e-f2b0-43b0-9055-572e7038de00",
   "metadata": {},
   "source": [
    "* Verilen değerlerin veri yapılarını inceleyiniz."
   ]
  },
  {
   "cell_type": "code",
   "execution_count": 1,
   "id": "7eeada8b-307d-422c-a4de-5df1f63a3c7f",
   "metadata": {},
   "outputs": [],
   "source": [
    "x = 8\n",
    "y = 3.2\n",
    "z = 8j + 18\n",
    "a = \"Hello World\"\n",
    "b = True\n",
    "c = 23 < 22\n",
    "l = [1, 2, 3, 4]\n",
    "d = {\"Name\": \"Jake\",\n",
    "    \"Age\": 27,\n",
    "    \"Adress\": \"Downtown\"}\n",
    "t = (\"Machine Learning\", \"Data Science\")\n",
    "s = {\"Python\", \"Machine Learning\", \"Data Science\"}"
   ]
  },
  {
   "cell_type": "code",
   "execution_count": 3,
   "id": "9c6dc0f6-0351-4655-ac93-b5e0a67cf60e",
   "metadata": {},
   "outputs": [
    {
     "name": "stdout",
     "output_type": "stream",
     "text": [
      "<class 'int'>\n",
      "<class 'float'>\n",
      "<class 'complex'>\n",
      "<class 'str'>\n",
      "<class 'bool'>\n",
      "<class 'bool'>\n",
      "<class 'list'>\n",
      "<class 'dict'>\n",
      "<class 'tuple'>\n",
      "<class 'set'>\n"
     ]
    }
   ],
   "source": [
    "print(type(x))\n",
    "print(type(y))\n",
    "print(type(z))\n",
    "print(type(a))\n",
    "print(type(b))\n",
    "print(type(c))\n",
    "print(type(l))\n",
    "print(type(d))\n",
    "print(type(t))\n",
    "print(type(s))"
   ]
  },
  {
   "cell_type": "markdown",
   "id": "6b9e1969-d4ee-4d79-8102-260174490e88",
   "metadata": {},
   "source": [
    "# Görev-2"
   ]
  },
  {
   "cell_type": "markdown",
   "id": "263c9921-10d8-4ff4-b4f7-f38e69e1ec0d",
   "metadata": {},
   "source": [
    "* Verilen string ifadenin tüm harflerini büyük harfe çeviriniz. Virgül ve nokta yerine boşluk karakteri koyunuz. Kelime kelime ayırınız."
   ]
  },
  {
   "cell_type": "code",
   "execution_count": 5,
   "id": "c0e0a2ed-c206-4ecc-8e19-a0c021b72a2c",
   "metadata": {},
   "outputs": [],
   "source": [
    "text = \"The goal is to turn data into information, and information into insight.\""
   ]
  },
  {
   "cell_type": "code",
   "execution_count": 9,
   "id": "706af339-213e-48d5-9474-841124295173",
   "metadata": {},
   "outputs": [
    {
     "data": {
      "text/plain": [
       "'The goal is to turn data into information  and information into insight '"
      ]
     },
     "execution_count": 9,
     "metadata": {},
     "output_type": "execute_result"
    }
   ],
   "source": [
    "# Multiple replace\n",
    "char_to_replace = {\",\":\" \", \n",
    "                   \".\": \" \"}\n",
    "for key, value in char_to_replace.items():\n",
    "    text = text.replace(key, value)\n",
    "text"
   ]
  },
  {
   "cell_type": "code",
   "execution_count": 10,
   "id": "603ddfb4-47b3-4830-b6f6-2cc4c92e875e",
   "metadata": {},
   "outputs": [
    {
     "data": {
      "text/plain": [
       "['THE',\n",
       " 'GOAL',\n",
       " 'IS',\n",
       " 'TO',\n",
       " 'TURN',\n",
       " 'DATA',\n",
       " 'INTO',\n",
       " 'INFORMATION',\n",
       " 'AND',\n",
       " 'INFORMATION',\n",
       " 'INTO',\n",
       " 'INSIGHT']"
      ]
     },
     "execution_count": 10,
     "metadata": {},
     "output_type": "execute_result"
    }
   ],
   "source": [
    "myList = [i.upper() for i in text.split()]\n",
    "myList"
   ]
  },
  {
   "cell_type": "markdown",
   "id": "7399981a-ff0d-4968-8299-7e4fcbd32a70",
   "metadata": {},
   "source": [
    "# Görev-3"
   ]
  },
  {
   "cell_type": "markdown",
   "id": "17c23e93-ca26-463a-b809-e5ba64db03d2",
   "metadata": {},
   "source": [
    "* Verilen listeye aşağıdaki adımları uygulayınız."
   ]
  },
  {
   "cell_type": "code",
   "execution_count": 1,
   "id": "70df95c4-16d2-4595-8580-e69ed05233e5",
   "metadata": {},
   "outputs": [],
   "source": [
    "myList = [\"D\", \"A\", \"T\", \"A\", \"S\", \"C\", \"I\", \"E\", \"N\", \"C\", \"E\"]"
   ]
  },
  {
   "cell_type": "markdown",
   "id": "2d853487-35c6-4a0e-a8e6-456e261f714f",
   "metadata": {},
   "source": [
    "> * **Adım 1:** Verilen listenin eleman sayısına bakınız."
   ]
  },
  {
   "cell_type": "code",
   "execution_count": 2,
   "id": "c735edd0-1ed6-448e-87cd-18f448a3f25e",
   "metadata": {},
   "outputs": [
    {
     "data": {
      "text/plain": [
       "11"
      ]
     },
     "execution_count": 2,
     "metadata": {},
     "output_type": "execute_result"
    }
   ],
   "source": [
    "len(myList)"
   ]
  },
  {
   "cell_type": "markdown",
   "id": "a3370936-7f3b-4527-a51e-c4a551bfb8b0",
   "metadata": {},
   "source": [
    "> * **Adım 2:** Sıfırıncı ve onuncu indeksteki elemanları çağırınız."
   ]
  },
  {
   "cell_type": "code",
   "execution_count": 3,
   "id": "3d1adff0-994c-43bf-9f08-9664424b2d40",
   "metadata": {},
   "outputs": [
    {
     "name": "stdout",
     "output_type": "stream",
     "text": [
      "0. indeksteki eleman D\n",
      "10. indeksteki eleman E\n"
     ]
    }
   ],
   "source": [
    "print(f\"0. indeksteki eleman {myList[0]}\")\n",
    "print(f\"10. indeksteki eleman {myList[10]}\")"
   ]
  },
  {
   "cell_type": "markdown",
   "id": "b661d387-b8db-4ab7-851a-626df921dfd4",
   "metadata": {},
   "source": [
    "> * **Adım 3:** Verilen liste üzerinden [\"D\", \"A\", \"T\", \"A\"] listesi oluşturunuz."
   ]
  },
  {
   "cell_type": "code",
   "execution_count": 4,
   "id": "e70b39c6-a248-454d-ac0b-28fae35e58f8",
   "metadata": {},
   "outputs": [
    {
     "data": {
      "text/plain": [
       "['D', 'A', 'T', 'A']"
      ]
     },
     "execution_count": 4,
     "metadata": {},
     "output_type": "execute_result"
    }
   ],
   "source": [
    "subList = myList[:4]\n",
    "subList"
   ]
  },
  {
   "cell_type": "markdown",
   "id": "9d4f1248-3643-4665-9f8d-85f0f38b9744",
   "metadata": {},
   "source": [
    "> * **Adım 4:** Sekizinci indeksteki elemanı siliniz."
   ]
  },
  {
   "cell_type": "code",
   "execution_count": 5,
   "id": "995e1b54-01a8-45c8-88f5-7e5db909f787",
   "metadata": {},
   "outputs": [
    {
     "data": {
      "text/plain": [
       "'N'"
      ]
     },
     "execution_count": 5,
     "metadata": {},
     "output_type": "execute_result"
    }
   ],
   "source": [
    "myList.pop(8)"
   ]
  },
  {
   "cell_type": "code",
   "execution_count": 6,
   "id": "7cf66386-755e-41fd-9fd5-bff7baeb4b23",
   "metadata": {},
   "outputs": [
    {
     "data": {
      "text/plain": [
       "['D', 'A', 'T', 'A', 'S', 'C', 'I', 'E', 'C', 'E']"
      ]
     },
     "execution_count": 6,
     "metadata": {},
     "output_type": "execute_result"
    }
   ],
   "source": [
    "myList"
   ]
  },
  {
   "cell_type": "markdown",
   "id": "4f170542-d261-4c6b-8cdd-1f26634ea187",
   "metadata": {},
   "source": [
    "> * **Adım 5:** Yeni bir eleman ekleyiniz."
   ]
  },
  {
   "cell_type": "code",
   "execution_count": 7,
   "id": "4f2a3697-fefd-4668-a997-fbc7c4675aa4",
   "metadata": {},
   "outputs": [
    {
     "data": {
      "text/plain": [
       "['D', 'A', 'T', 'A', 'S', 'C', 'I', 'E', 'C', 'E', '!!!']"
      ]
     },
     "execution_count": 7,
     "metadata": {},
     "output_type": "execute_result"
    }
   ],
   "source": [
    "myList.append(\"!!!\")\n",
    "myList"
   ]
  },
  {
   "cell_type": "markdown",
   "id": "8948721e-84b3-4669-8aea-734320ffa8ca",
   "metadata": {},
   "source": [
    "> * **Adım 6:** Sekizinci indekse \"N\" elemanını tekrar ekleyiniz."
   ]
  },
  {
   "cell_type": "code",
   "execution_count": 8,
   "id": "e3789900-1519-4eff-9a88-9d6d48a5afa6",
   "metadata": {},
   "outputs": [],
   "source": [
    "myList.insert(8,\"N\")"
   ]
  },
  {
   "cell_type": "code",
   "execution_count": 9,
   "id": "83b27d1b-4fcc-43f3-adb6-3b0f166a2e1e",
   "metadata": {},
   "outputs": [
    {
     "data": {
      "text/plain": [
       "['D', 'A', 'T', 'A', 'S', 'C', 'I', 'E', 'N', 'C', 'E', '!!!']"
      ]
     },
     "execution_count": 9,
     "metadata": {},
     "output_type": "execute_result"
    }
   ],
   "source": [
    "myList"
   ]
  },
  {
   "cell_type": "markdown",
   "id": "7bb0df22-7afa-415b-8cc7-6bd441a0f061",
   "metadata": {},
   "source": [
    "# Görev-4"
   ]
  },
  {
   "cell_type": "markdown",
   "id": "1c2af76a-832e-4846-bf7d-c5185a49fc03",
   "metadata": {},
   "source": [
    "* Verilen sözlük yapısına aşağıdaki adımları uygulayınız."
   ]
  },
  {
   "cell_type": "code",
   "execution_count": 10,
   "id": "2130d75c-beea-4bae-9c75-75fe097a4d6f",
   "metadata": {},
   "outputs": [],
   "source": [
    "myDict = {\"Christian\": [\"America\", 18],\n",
    "         \"Daisy\": [\"England\", 12],\n",
    "         \"Antonia\": [\"Spain\", 22],\n",
    "         \"Dante\": [\"Italy\", 25]}"
   ]
  },
  {
   "cell_type": "markdown",
   "id": "73a21545-d1ee-4f52-9e40-e233f7f5fa2d",
   "metadata": {},
   "source": [
    "> * **Adım 1:** Key değerlerine erişiniz."
   ]
  },
  {
   "cell_type": "code",
   "execution_count": 11,
   "id": "f1e7de52-9f88-440f-8f48-78a77a84bca6",
   "metadata": {},
   "outputs": [
    {
     "data": {
      "text/plain": [
       "dict_keys(['Christian', 'Daisy', 'Antonia', 'Dante'])"
      ]
     },
     "execution_count": 11,
     "metadata": {},
     "output_type": "execute_result"
    }
   ],
   "source": [
    "myDict.keys()"
   ]
  },
  {
   "cell_type": "markdown",
   "id": "aa60ad8c-b1de-4dbf-b0f8-a2ab659900c4",
   "metadata": {},
   "source": [
    "> * **Adım 2:** Value değerlerine erişiniz."
   ]
  },
  {
   "cell_type": "code",
   "execution_count": 12,
   "id": "27a4e227-3118-4ac4-a009-dcb2e58ec0b8",
   "metadata": {},
   "outputs": [
    {
     "data": {
      "text/plain": [
       "dict_values([['America', 18], ['England', 12], ['Spain', 22], ['Italy', 25]])"
      ]
     },
     "execution_count": 12,
     "metadata": {},
     "output_type": "execute_result"
    }
   ],
   "source": [
    "myDict.values()"
   ]
  },
  {
   "cell_type": "markdown",
   "id": "d9713f00-4344-41c5-93af-1a5552b1f4ff",
   "metadata": {},
   "source": [
    "> * **Adım 3:** Daisy key'ine ait 12 değerini 13 olarak güncelleyiniz."
   ]
  },
  {
   "cell_type": "code",
   "execution_count": 13,
   "id": "8c13fe54-c121-4998-8b80-2500a355dc93",
   "metadata": {},
   "outputs": [
    {
     "data": {
      "text/plain": [
       "{'Christian': ['America', 18],\n",
       " 'Daisy': ['England', 13],\n",
       " 'Antonia': ['Spain', 22],\n",
       " 'Dante': ['Italy', 25]}"
      ]
     },
     "execution_count": 13,
     "metadata": {},
     "output_type": "execute_result"
    }
   ],
   "source": [
    "myDict[\"Daisy\"][1] = 13\n",
    "myDict"
   ]
  },
  {
   "cell_type": "markdown",
   "id": "829a61e4-8d53-440f-bec8-e72da9b721bb",
   "metadata": {},
   "source": [
    "> * **Adım 4:** Key değeri Ahmet value değeri [\"Turkey\", 24] olan yeni bir değer ekleyiniz."
   ]
  },
  {
   "cell_type": "code",
   "execution_count": 14,
   "id": "800508ba-8b07-4678-9dac-99f949b6c49a",
   "metadata": {},
   "outputs": [
    {
     "data": {
      "text/plain": [
       "{'Christian': ['America', 18],\n",
       " 'Daisy': ['England', 13],\n",
       " 'Antonia': ['Spain', 22],\n",
       " 'Dante': ['Italy', 25],\n",
       " 'Ahmet': ['Turkey', 24]}"
      ]
     },
     "execution_count": 14,
     "metadata": {},
     "output_type": "execute_result"
    }
   ],
   "source": [
    "myDict[\"Ahmet\"] = [\"Turkey\", 24]\n",
    "myDict"
   ]
  },
  {
   "cell_type": "markdown",
   "id": "9387ca16-0451-4fe7-99e8-01db2bcf9f7b",
   "metadata": {},
   "source": [
    "> * **Adım 5:** Antonio'yu dictionary'den siliniz."
   ]
  },
  {
   "cell_type": "code",
   "execution_count": 15,
   "id": "dc8de9fe-6035-4da6-97a7-9199ed5ca310",
   "metadata": {},
   "outputs": [
    {
     "data": {
      "text/plain": [
       "['Spain', 22]"
      ]
     },
     "execution_count": 15,
     "metadata": {},
     "output_type": "execute_result"
    }
   ],
   "source": [
    "myDict.pop(\"Antonia\")"
   ]
  },
  {
   "cell_type": "code",
   "execution_count": 16,
   "id": "b74fb7f7-a648-4f5b-a328-34e95f179f2e",
   "metadata": {},
   "outputs": [
    {
     "data": {
      "text/plain": [
       "{'Christian': ['America', 18],\n",
       " 'Daisy': ['England', 13],\n",
       " 'Dante': ['Italy', 25],\n",
       " 'Ahmet': ['Turkey', 24]}"
      ]
     },
     "execution_count": 16,
     "metadata": {},
     "output_type": "execute_result"
    }
   ],
   "source": [
    "myDict"
   ]
  },
  {
   "cell_type": "markdown",
   "id": "6cebeca8-a8dc-4c61-89f2-2a5a3df14d7e",
   "metadata": {},
   "source": [
    "# Görev-5"
   ]
  },
  {
   "cell_type": "markdown",
   "id": "162447b8-150c-432a-9ce6-ab5a20fc3b97",
   "metadata": {},
   "source": [
    "* Argüman olarak bir liste alan, listenin içerisindeki tek ve çift sayıları ayrı listelere atayan ve bu listeleri return eden fonksiyon yazınız."
   ]
  },
  {
   "cell_type": "code",
   "execution_count": 18,
   "id": "e3bb23b6-d9bd-44b1-9040-039affc4add1",
   "metadata": {},
   "outputs": [
    {
     "name": "stdout",
     "output_type": "stream",
     "text": [
      "[13, 93] [2, 18, 22]\n"
     ]
    }
   ],
   "source": [
    "myList = [2, 13, 18, 93, 22]\n",
    "\n",
    "def myFunc(myList):\n",
    "    even_list = []\n",
    "    odd_list = []\n",
    "    for i in myList:\n",
    "        if i % 2 == 0:\n",
    "            even_list.append(i)\n",
    "        else:\n",
    "            odd_list.append(i)\n",
    "    return odd_list, even_list\n",
    "\n",
    "tek, cift = myFunc(myList)\n",
    "print(tek, cift)\n",
    "    \n",
    "    "
   ]
  },
  {
   "cell_type": "markdown",
   "id": "c18a9bae-5e2b-449d-aede-e365a3135487",
   "metadata": {},
   "source": [
    "# Görev-6"
   ]
  },
  {
   "cell_type": "markdown",
   "id": "c3469352-2903-4bda-8b11-a682a3fe0104",
   "metadata": {},
   "source": [
    "* List Comprehension yapısı kullanarak car_crashes verisindeki numeric değişkenlerin isimlerini büyük harfe çeviriniz ve başına NUM ekleyiniz."
   ]
  },
  {
   "cell_type": "code",
   "execution_count": 12,
   "id": "77842e13-02e2-45ee-9509-ef302e2b4e53",
   "metadata": {},
   "outputs": [
    {
     "data": {
      "text/plain": [
       "Index(['total', 'speeding', 'alcohol', 'not_distracted', 'no_previous',\n",
       "       'ins_premium', 'ins_losses', 'abbrev'],\n",
       "      dtype='object')"
      ]
     },
     "execution_count": 12,
     "metadata": {},
     "output_type": "execute_result"
    }
   ],
   "source": [
    "import seaborn as sns\n",
    "df = sns.load_dataset(\"car_crashes\")\n",
    "df.columns"
   ]
  },
  {
   "cell_type": "code",
   "execution_count": 13,
   "id": "c8aa0460-1fd6-46fc-b7de-bde6619bb035",
   "metadata": {},
   "outputs": [],
   "source": [
    "df.columns = [\"NUM_\" + col.upper()  if df[col].dtype != \"O\" else col.upper() for col in df.columns]"
   ]
  },
  {
   "cell_type": "code",
   "execution_count": 14,
   "id": "aaf98b0e-5b9e-4fa7-80f1-0ecb45996777",
   "metadata": {},
   "outputs": [
    {
     "data": {
      "text/plain": [
       "Index(['NUM_TOTAL', 'NUM_SPEEDING', 'NUM_ALCOHOL', 'NUM_NOT_DISTRACTED',\n",
       "       'NUM_NO_PREVIOUS', 'NUM_INS_PREMIUM', 'NUM_INS_LOSSES', 'ABBREV'],\n",
       "      dtype='object')"
      ]
     },
     "execution_count": 14,
     "metadata": {},
     "output_type": "execute_result"
    }
   ],
   "source": [
    "df.columns"
   ]
  },
  {
   "cell_type": "code",
   "execution_count": 15,
   "id": "7158c94c-32c3-457b-9034-65b2336f9ed9",
   "metadata": {},
   "outputs": [
    {
     "name": "stdout",
     "output_type": "stream",
     "text": [
      "<class 'pandas.core.frame.DataFrame'>\n",
      "RangeIndex: 51 entries, 0 to 50\n",
      "Data columns (total 8 columns):\n",
      " #   Column              Non-Null Count  Dtype  \n",
      "---  ------              --------------  -----  \n",
      " 0   NUM_TOTAL           51 non-null     float64\n",
      " 1   NUM_SPEEDING        51 non-null     float64\n",
      " 2   NUM_ALCOHOL         51 non-null     float64\n",
      " 3   NUM_NOT_DISTRACTED  51 non-null     float64\n",
      " 4   NUM_NO_PREVIOUS     51 non-null     float64\n",
      " 5   NUM_INS_PREMIUM     51 non-null     float64\n",
      " 6   NUM_INS_LOSSES      51 non-null     float64\n",
      " 7   ABBREV              51 non-null     object \n",
      "dtypes: float64(7), object(1)\n",
      "memory usage: 3.3+ KB\n"
     ]
    }
   ],
   "source": [
    "df.info()"
   ]
  },
  {
   "cell_type": "markdown",
   "id": "91e78edb-1bf7-4cd6-83a3-e85206534cba",
   "metadata": {},
   "source": [
    "# Görev-7"
   ]
  },
  {
   "cell_type": "markdown",
   "id": "1a2bc902-90bb-4f3a-bf6c-1f13c1a7abcb",
   "metadata": {},
   "source": [
    "* List Comprehension yapısı kullanarak car_crashes verisinde isminde \"no\" barındırmayan değişkenlerin isimlerinin sonuna \"FLAG\" yazınız."
   ]
  },
  {
   "cell_type": "code",
   "execution_count": 16,
   "id": "a10b3f6f-af4d-4e24-99a1-d6a6cc862ebe",
   "metadata": {},
   "outputs": [
    {
     "data": {
      "text/plain": [
       "Index(['total', 'speeding', 'alcohol', 'not_distracted', 'no_previous',\n",
       "       'ins_premium', 'ins_losses', 'abbrev'],\n",
       "      dtype='object')"
      ]
     },
     "execution_count": 16,
     "metadata": {},
     "output_type": "execute_result"
    }
   ],
   "source": [
    "import seaborn as sns\n",
    "df = sns.load_dataset(\"car_crashes\")\n",
    "df.columns"
   ]
  },
  {
   "cell_type": "code",
   "execution_count": 18,
   "id": "79d4b392-ade1-488c-8708-a34bcc85b4cb",
   "metadata": {},
   "outputs": [],
   "source": [
    "df.columns = [i.upper() + \"_FLAG\" if \"no\" not in i else i.upper() for i in df.columns]"
   ]
  },
  {
   "cell_type": "code",
   "execution_count": 19,
   "id": "3aaaa120-3720-4102-a5af-3df4864bb2a5",
   "metadata": {},
   "outputs": [
    {
     "data": {
      "text/plain": [
       "Index(['TOTAL_FLAG', 'SPEEDING_FLAG', 'ALCOHOL_FLAG', 'NOT_DISTRACTED',\n",
       "       'NO_PREVIOUS', 'INS_PREMIUM_FLAG', 'INS_LOSSES_FLAG', 'ABBREV_FLAG'],\n",
       "      dtype='object')"
      ]
     },
     "execution_count": 19,
     "metadata": {},
     "output_type": "execute_result"
    }
   ],
   "source": [
    "df.columns"
   ]
  },
  {
   "cell_type": "markdown",
   "id": "643c0bb6-8a08-4f6d-a1c3-7e51086f2962",
   "metadata": {},
   "source": [
    "# Görev-8"
   ]
  },
  {
   "cell_type": "markdown",
   "id": "7fc590e3-728a-48ba-add5-2819dd051bbd",
   "metadata": {},
   "source": [
    "* List Comprehension yapısı kullanarak aşağıda verilen değişken isimlerinden FARKLI olan değişkenlerin isimlerini seçiniz ve yeni bir data frame oluşturunuz."
   ]
  },
  {
   "cell_type": "code",
   "execution_count": 20,
   "id": "2c27c6f8-64e9-43cd-a436-5996f265911d",
   "metadata": {},
   "outputs": [
    {
     "data": {
      "text/plain": [
       "Index(['total', 'speeding', 'alcohol', 'not_distracted', 'no_previous',\n",
       "       'ins_premium', 'ins_losses', 'abbrev'],\n",
       "      dtype='object')"
      ]
     },
     "execution_count": 20,
     "metadata": {},
     "output_type": "execute_result"
    }
   ],
   "source": [
    "import seaborn as sns\n",
    "df = sns.load_dataset(\"car_crashes\")\n",
    "df.columns"
   ]
  },
  {
   "cell_type": "code",
   "execution_count": 21,
   "id": "ee24be11-1c74-4170-a439-8a8c14482b79",
   "metadata": {},
   "outputs": [
    {
     "data": {
      "text/html": [
       "<div>\n",
       "<style scoped>\n",
       "    .dataframe tbody tr th:only-of-type {\n",
       "        vertical-align: middle;\n",
       "    }\n",
       "\n",
       "    .dataframe tbody tr th {\n",
       "        vertical-align: top;\n",
       "    }\n",
       "\n",
       "    .dataframe thead th {\n",
       "        text-align: right;\n",
       "    }\n",
       "</style>\n",
       "<table border=\"1\" class=\"dataframe\">\n",
       "  <thead>\n",
       "    <tr style=\"text-align: right;\">\n",
       "      <th></th>\n",
       "      <th>total</th>\n",
       "      <th>speeding</th>\n",
       "      <th>alcohol</th>\n",
       "      <th>not_distracted</th>\n",
       "      <th>ins_premium</th>\n",
       "      <th>ins_losses</th>\n",
       "    </tr>\n",
       "  </thead>\n",
       "  <tbody>\n",
       "    <tr>\n",
       "      <th>0</th>\n",
       "      <td>18.8</td>\n",
       "      <td>7.332</td>\n",
       "      <td>5.640</td>\n",
       "      <td>18.048</td>\n",
       "      <td>784.55</td>\n",
       "      <td>145.08</td>\n",
       "    </tr>\n",
       "    <tr>\n",
       "      <th>1</th>\n",
       "      <td>18.1</td>\n",
       "      <td>7.421</td>\n",
       "      <td>4.525</td>\n",
       "      <td>16.290</td>\n",
       "      <td>1053.48</td>\n",
       "      <td>133.93</td>\n",
       "    </tr>\n",
       "    <tr>\n",
       "      <th>2</th>\n",
       "      <td>18.6</td>\n",
       "      <td>6.510</td>\n",
       "      <td>5.208</td>\n",
       "      <td>15.624</td>\n",
       "      <td>899.47</td>\n",
       "      <td>110.35</td>\n",
       "    </tr>\n",
       "    <tr>\n",
       "      <th>3</th>\n",
       "      <td>22.4</td>\n",
       "      <td>4.032</td>\n",
       "      <td>5.824</td>\n",
       "      <td>21.056</td>\n",
       "      <td>827.34</td>\n",
       "      <td>142.39</td>\n",
       "    </tr>\n",
       "    <tr>\n",
       "      <th>4</th>\n",
       "      <td>12.0</td>\n",
       "      <td>4.200</td>\n",
       "      <td>3.360</td>\n",
       "      <td>10.920</td>\n",
       "      <td>878.41</td>\n",
       "      <td>165.63</td>\n",
       "    </tr>\n",
       "  </tbody>\n",
       "</table>\n",
       "</div>"
      ],
      "text/plain": [
       "   total  speeding  alcohol  not_distracted  ins_premium  ins_losses\n",
       "0   18.8     7.332    5.640          18.048       784.55      145.08\n",
       "1   18.1     7.421    4.525          16.290      1053.48      133.93\n",
       "2   18.6     6.510    5.208          15.624       899.47      110.35\n",
       "3   22.4     4.032    5.824          21.056       827.34      142.39\n",
       "4   12.0     4.200    3.360          10.920       878.41      165.63"
      ]
     },
     "execution_count": 21,
     "metadata": {},
     "output_type": "execute_result"
    }
   ],
   "source": [
    "og_list = [\"abbrev\", \"no_previous\"]\n",
    "new_cols = [i for i in df.columns if i not in og_list]\n",
    "\n",
    "new_df = df[new_cols]\n",
    "new_df.head()"
   ]
  },
  {
   "cell_type": "code",
   "execution_count": null,
   "id": "d59e8432-9921-45fc-9f3a-57b1bc321f89",
   "metadata": {},
   "outputs": [],
   "source": []
  }
 ],
 "metadata": {
  "kernelspec": {
   "display_name": "Python 3 (ipykernel)",
   "language": "python",
   "name": "python3"
  },
  "language_info": {
   "codemirror_mode": {
    "name": "ipython",
    "version": 3
   },
   "file_extension": ".py",
   "mimetype": "text/x-python",
   "name": "python",
   "nbconvert_exporter": "python",
   "pygments_lexer": "ipython3",
   "version": "3.9.7"
  }
 },
 "nbformat": 4,
 "nbformat_minor": 5
}
