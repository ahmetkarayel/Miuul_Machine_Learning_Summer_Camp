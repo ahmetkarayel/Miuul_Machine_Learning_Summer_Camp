{
 "cells": [
  {
   "cell_type": "markdown",
   "id": "b4e41234-4bc6-4d9e-8bc2-07e9f6425432",
   "metadata": {},
   "source": [
    "# Veri Yapıları (Data Structures)"
   ]
  },
  {
   "cell_type": "markdown",
   "id": "86aea821-3905-4828-8b8c-b6ae42cba9b9",
   "metadata": {},
   "source": [
    "* **type():** Tip sorgulama fonksiyonudur."
   ]
  },
  {
   "cell_type": "code",
   "execution_count": 1,
   "id": "2fc9f147-35ed-4c29-a8c1-c8f66ca0f92b",
   "metadata": {},
   "outputs": [
    {
     "data": {
      "text/plain": [
       "int"
      ]
     },
     "execution_count": 1,
     "metadata": {},
     "output_type": "execute_result"
    }
   ],
   "source": [
    "type(9) # int: Tam sayı"
   ]
  },
  {
   "cell_type": "code",
   "execution_count": 2,
   "id": "85bf9e2a-24ea-4584-bf5a-2e0344c7ad3f",
   "metadata": {},
   "outputs": [
    {
     "data": {
      "text/plain": [
       "float"
      ]
     },
     "execution_count": 2,
     "metadata": {},
     "output_type": "execute_result"
    }
   ],
   "source": [
    "type(9.2) # float: Ondalıklı sayı"
   ]
  },
  {
   "cell_type": "code",
   "execution_count": 3,
   "id": "95e279e7-e46e-476a-a4b3-d1d93ffb5563",
   "metadata": {},
   "outputs": [
    {
     "data": {
      "text/plain": [
       "str"
      ]
     },
     "execution_count": 3,
     "metadata": {},
     "output_type": "execute_result"
    }
   ],
   "source": [
    "type(\"Ahmet\") # str: String karakter dizisi."
   ]
  },
  {
   "cell_type": "code",
   "execution_count": 4,
   "id": "d4811932-e19e-4ee8-b051-1560f77cfd96",
   "metadata": {},
   "outputs": [
    {
     "data": {
      "text/plain": [
       "complex"
      ]
     },
     "execution_count": 4,
     "metadata": {},
     "output_type": "execute_result"
    }
   ],
   "source": [
    "type(10.2j)"
   ]
  },
  {
   "cell_type": "code",
   "execution_count": 6,
   "id": "c21d0203-bc2c-4a8a-8b00-1a192a2be058",
   "metadata": {},
   "outputs": [
    {
     "data": {
      "text/plain": [
       "bool"
      ]
     },
     "execution_count": 6,
     "metadata": {},
     "output_type": "execute_result"
    }
   ],
   "source": [
    "type(True) # boolean: True-False 1-0"
   ]
  },
  {
   "cell_type": "code",
   "execution_count": 7,
   "id": "971deae6-c269-48fe-9c39-d7a11f65e33e",
   "metadata": {},
   "outputs": [
    {
     "data": {
      "text/plain": [
       "list"
      ]
     },
     "execution_count": 7,
     "metadata": {},
     "output_type": "execute_result"
    }
   ],
   "source": [
    "myList = [1,2,3,\"a\",\"c\",4.4]\n",
    "type(myList)"
   ]
  },
  {
   "cell_type": "code",
   "execution_count": 8,
   "id": "eee2706d-afce-4e23-a882-9d3fe9e575cf",
   "metadata": {},
   "outputs": [
    {
     "data": {
      "text/plain": [
       "dict"
      ]
     },
     "execution_count": 8,
     "metadata": {},
     "output_type": "execute_result"
    }
   ],
   "source": [
    "myDict = {\"IL\":\"Ankara\",\"ILCE\":\"Kızılay\"}\n",
    "type(myDict)"
   ]
  },
  {
   "cell_type": "code",
   "execution_count": 9,
   "id": "006c6fad-57e7-4aa2-ac4c-45c067ad1c33",
   "metadata": {},
   "outputs": [
    {
     "data": {
      "text/plain": [
       "tuple"
      ]
     },
     "execution_count": 9,
     "metadata": {},
     "output_type": "execute_result"
    }
   ],
   "source": [
    "myTuple = (1,2,3,4)\n",
    "type(myTuple)"
   ]
  },
  {
   "cell_type": "code",
   "execution_count": 10,
   "id": "91b867cb-94f7-43ef-9345-7d65b73259d2",
   "metadata": {},
   "outputs": [
    {
     "data": {
      "text/plain": [
       "set"
      ]
     },
     "execution_count": 10,
     "metadata": {},
     "output_type": "execute_result"
    }
   ],
   "source": [
    "mySet = {\"a\", \"b\", \"c\"}\n",
    "type(mySet)"
   ]
  },
  {
   "cell_type": "markdown",
   "id": "0d8e57a4-8d14-4956-8c41-02f2784ba34d",
   "metadata": {},
   "source": [
    "* **NOT:** Liste, Tuple, Set ve Dictionary veri yapıları aynı zamanda Python Collections (Arrays) olarak geçmektedir."
   ]
  },
  {
   "cell_type": "markdown",
   "id": "9c502a54-2484-4cda-b556-1a226fca7e28",
   "metadata": {},
   "source": [
    "## Sayılar"
   ]
  },
  {
   "cell_type": "code",
   "execution_count": 11,
   "id": "a9a72649-40f6-4039-8e53-43c3205bf5b9",
   "metadata": {},
   "outputs": [
    {
     "name": "stdout",
     "output_type": "stream",
     "text": [
      "52.5\n",
      "15.5\n",
      "25\n"
     ]
    }
   ],
   "source": [
    "a = 5 #int\n",
    "b = 10.5 #float\n",
    "\n",
    "print(a*b)\n",
    "print(a+b)\n",
    "print(a**2)"
   ]
  },
  {
   "cell_type": "markdown",
   "id": "8f3c05bf-d9f0-424e-b723-17f73dbe4e2f",
   "metadata": {},
   "source": [
    "* **int() - float() - str():** Tip dönüşümü fonksiyonlarıdır."
   ]
  },
  {
   "cell_type": "code",
   "execution_count": 13,
   "id": "cfb84a49-e60e-4b91-8494-9ec273faaffa",
   "metadata": {},
   "outputs": [
    {
     "name": "stdout",
     "output_type": "stream",
     "text": [
      "10\n",
      "5.0\n",
      "15.5\n"
     ]
    }
   ],
   "source": [
    "print(int(b)) # float to int\n",
    "print(float(a)) # int to float\n",
    "print(str(a+b)) # float to str"
   ]
  },
  {
   "cell_type": "markdown",
   "id": "79fcd721-ff2c-49d9-9f6d-68176c734191",
   "metadata": {},
   "source": [
    "## Karakter Dizileri (Strings)"
   ]
  },
  {
   "cell_type": "code",
   "execution_count": 14,
   "id": "90c53820-ea70-4e6d-a19a-1d07d747463d",
   "metadata": {},
   "outputs": [
    {
     "name": "stdout",
     "output_type": "stream",
     "text": [
      "Ahmet Karayel\n"
     ]
    }
   ],
   "source": [
    "myStr = \"Ahmet Karayel\"\n",
    "print(myStr)"
   ]
  },
  {
   "cell_type": "code",
   "execution_count": 16,
   "id": "b7e963d6-1120-49d7-be66-171dbda9d031",
   "metadata": {},
   "outputs": [
    {
     "name": "stdout",
     "output_type": "stream",
     "text": [
      "Lorem Ipsum is simply dummy text of the printing and typesetting industry.\n",
      "Lorem Ipsum has been the industry's standard dummy text ever since the 1500s, \n",
      "when an unknown printer took a galley of type and scrambled it to make a type specimen book. \n",
      "It has survived not only five centuries, but also the leap into electronic typesetting, \n",
      "remaining essentially unchanged. It was popularised in the 1960s with the release of Letraset \n",
      "sheets containing Lorem Ipsum passages, and more recently with desktop publishing software like Aldus \n",
      "PageMaker including versions of Lorem Ipsum\n",
      "\n"
     ]
    }
   ],
   "source": [
    "myStory = \"\"\"Lorem Ipsum is simply dummy text of the printing and typesetting industry.\n",
    "Lorem Ipsum has been the industry's standard dummy text ever since the 1500s, \n",
    "when an unknown printer took a galley of type and scrambled it to make a type specimen book. \n",
    "It has survived not only five centuries, but also the leap into electronic typesetting, \n",
    "remaining essentially unchanged. It was popularised in the 1960s with the release of Letraset \n",
    "sheets containing Lorem Ipsum passages, and more recently with desktop publishing software like Aldus \n",
    "PageMaker including versions of Lorem Ipsum\n",
    "\"\"\"\n",
    "print(myStory)"
   ]
  },
  {
   "cell_type": "code",
   "execution_count": 17,
   "id": "85304415-9111-43e9-b2db-0f192e42e87d",
   "metadata": {},
   "outputs": [
    {
     "data": {
      "text/plain": [
       "'Ahm'"
      ]
     },
     "execution_count": 17,
     "metadata": {},
     "output_type": "execute_result"
    }
   ],
   "source": [
    "myStr[0:3]"
   ]
  },
  {
   "cell_type": "code",
   "execution_count": 18,
   "id": "349ee2cf-a469-4ad5-b559-d82f33bc3859",
   "metadata": {},
   "outputs": [
    {
     "data": {
      "text/plain": [
       "'AmtKryl'"
      ]
     },
     "execution_count": 18,
     "metadata": {},
     "output_type": "execute_result"
    }
   ],
   "source": [
    "myStr[::2] # 2şer 2şer atlayarak "
   ]
  },
  {
   "cell_type": "code",
   "execution_count": 19,
   "id": "296b83ad-e0ae-4f7e-981d-bb24944d1362",
   "metadata": {},
   "outputs": [
    {
     "data": {
      "text/plain": [
       "True"
      ]
     },
     "execution_count": 19,
     "metadata": {},
     "output_type": "execute_result"
    }
   ],
   "source": [
    "\"Lorem\" in myStory"
   ]
  },
  {
   "cell_type": "markdown",
   "id": "e57090db-cd15-4389-8318-9791bf12df70",
   "metadata": {},
   "source": [
    "### String Metodları"
   ]
  },
  {
   "cell_type": "markdown",
   "id": "b58287eb-01e3-401e-b2cc-893d3963d099",
   "metadata": {},
   "source": [
    "* **len():** Uzunluk hesaplar. "
   ]
  },
  {
   "cell_type": "code",
   "execution_count": 21,
   "id": "c47a004c-4e41-477d-8977-dbbbc7431b2d",
   "metadata": {},
   "outputs": [
    {
     "data": {
      "text/plain": [
       "13"
      ]
     },
     "execution_count": 21,
     "metadata": {},
     "output_type": "execute_result"
    }
   ],
   "source": [
    "len(myStr) # Ahmet Karayel"
   ]
  },
  {
   "cell_type": "markdown",
   "id": "7435477e-4ecb-4171-a120-2f9fa7699af3",
   "metadata": {},
   "source": [
    "* **upper():** Tüm harfleri büyütür.  \n",
    "* **lower():** Tüm harfleri küçültür. "
   ]
  },
  {
   "cell_type": "code",
   "execution_count": 27,
   "id": "28302dcd-8eae-4877-9f07-b8922c020c50",
   "metadata": {},
   "outputs": [
    {
     "data": {
      "text/plain": [
       "'AHMET KARAYEL'"
      ]
     },
     "execution_count": 27,
     "metadata": {},
     "output_type": "execute_result"
    }
   ],
   "source": [
    "myStr.upper()"
   ]
  },
  {
   "cell_type": "code",
   "execution_count": 28,
   "id": "eec197d2-e1c0-414b-97ea-572fac060060",
   "metadata": {},
   "outputs": [
    {
     "data": {
      "text/plain": [
       "'ahmet karayel'"
      ]
     },
     "execution_count": 28,
     "metadata": {},
     "output_type": "execute_result"
    }
   ],
   "source": [
    "myStr.lower()"
   ]
  },
  {
   "cell_type": "markdown",
   "id": "8fffde3f-407f-4ff6-99ce-f407d35e0b9a",
   "metadata": {},
   "source": [
    "* **replace():** Karakter değiştirmek için kullanılır."
   ]
  },
  {
   "cell_type": "code",
   "execution_count": 30,
   "id": "bfa2c691-0345-46fa-8153-32c7e9dbbb10",
   "metadata": {},
   "outputs": [
    {
     "data": {
      "text/plain": [
       "'Ahmet+Karayel'"
      ]
     },
     "execution_count": 30,
     "metadata": {},
     "output_type": "execute_result"
    }
   ],
   "source": [
    "myStr.replace(\" \", \"+\") # boşluk yerine +"
   ]
  },
  {
   "cell_type": "markdown",
   "id": "a69bdd1d-f29d-4075-8fb7-a553a103db4b",
   "metadata": {},
   "source": [
    "* **split():** Bölme için kullanılır. Bir liste döndürür. Default olarak \" \" üzerinden bölme yapar."
   ]
  },
  {
   "cell_type": "code",
   "execution_count": 31,
   "id": "fdef9112-95d3-4e03-a706-e60b773f2cae",
   "metadata": {},
   "outputs": [
    {
     "data": {
      "text/plain": [
       "['Ahmet', 'Karayel']"
      ]
     },
     "execution_count": 31,
     "metadata": {},
     "output_type": "execute_result"
    }
   ],
   "source": [
    "myStr.split()"
   ]
  },
  {
   "cell_type": "code",
   "execution_count": 32,
   "id": "0f7b229e-f037-4e0f-9a06-22336df85e04",
   "metadata": {},
   "outputs": [
    {
     "data": {
      "text/plain": [
       "list"
      ]
     },
     "execution_count": 32,
     "metadata": {},
     "output_type": "execute_result"
    }
   ],
   "source": [
    "type(myStr.split())"
   ]
  },
  {
   "cell_type": "code",
   "execution_count": 33,
   "id": "b5c4e987-50c3-4aba-a375-16fc8456dc35",
   "metadata": {},
   "outputs": [
    {
     "data": {
      "text/plain": [
       "['Ahm', 't Karay', 'l']"
      ]
     },
     "execution_count": 33,
     "metadata": {},
     "output_type": "execute_result"
    }
   ],
   "source": [
    "myStr.split(sep=\"e\") # \"e\" harfine göre böl."
   ]
  },
  {
   "cell_type": "markdown",
   "id": "3b1a590a-74e0-41ec-8d1a-8e77eb126c16",
   "metadata": {},
   "source": [
    "* **strip():** Kırpma işlemi. Default olarak hem sol hem sağ taraftan \" \" karakterlerini kırpar.  \n",
    "* **lstrip():** Sadece sol taraftaki boşlukları kırpar.  \n",
    "* **rstrip():** Sadece sağ taraftaki boşlukları kırpar.  "
   ]
  },
  {
   "cell_type": "code",
   "execution_count": 35,
   "id": "758ba312-e73d-4a72-b4db-c3996a8bde92",
   "metadata": {},
   "outputs": [
    {
     "name": "stdout",
     "output_type": "stream",
     "text": [
      "Default: Hello Miuul\n",
      "Sol taraftan: Hello Miuul   \n",
      "Sağ Taraftan:    Hello Miuul\n"
     ]
    }
   ],
   "source": [
    "x = \"   Hello Miuul   \"\n",
    "print(\"Default:\" ,x.strip())\n",
    "print(\"Sol taraftan:\" ,x.lstrip())\n",
    "print(\"Sağ Taraftan:\" ,x.rstrip())"
   ]
  },
  {
   "cell_type": "markdown",
   "id": "3698247a-7b77-49d1-b384-048be4de136b",
   "metadata": {},
   "source": [
    "* **capitalize():** İlk kelimenin baş harfini büyütür."
   ]
  },
  {
   "cell_type": "code",
   "execution_count": 36,
   "id": "a49b968a-684b-48a6-83bb-9f1e80bd4fc1",
   "metadata": {},
   "outputs": [
    {
     "data": {
      "text/plain": [
       "'Neler oluyor hayatta?'"
      ]
     },
     "execution_count": 36,
     "metadata": {},
     "output_type": "execute_result"
    }
   ],
   "source": [
    "x = \"neler oluyor hayatta?\"\n",
    "x.capitalize()"
   ]
  },
  {
   "cell_type": "markdown",
   "id": "3b1621b9-893c-4098-867b-7656e86f8434",
   "metadata": {},
   "source": [
    "* **title():** Her kelimenin baş harfini büyütür."
   ]
  },
  {
   "cell_type": "code",
   "execution_count": 37,
   "id": "a3d751f2-a30d-4308-9962-c47eebcaf25c",
   "metadata": {},
   "outputs": [
    {
     "data": {
      "text/plain": [
       "'Neler Oluyor Hayatta?'"
      ]
     },
     "execution_count": 37,
     "metadata": {},
     "output_type": "execute_result"
    }
   ],
   "source": [
    "x = \"neler oluyor hayatta?\"\n",
    "x.title()"
   ]
  },
  {
   "cell_type": "markdown",
   "id": "5b5d83c2-99da-472a-936c-52baa091857e",
   "metadata": {},
   "source": [
    "* **startswith():** İle mi başlıyor? Boolean sonuç döndürür.\n",
    "* **endswith():** İle mi bitiyor? Boolean sonuç döndürür.\n"
   ]
  },
  {
   "cell_type": "code",
   "execution_count": 38,
   "id": "c73a6b9f-b7a4-4216-8af6-324d65e0c448",
   "metadata": {},
   "outputs": [
    {
     "data": {
      "text/plain": [
       "True"
      ]
     },
     "execution_count": 38,
     "metadata": {},
     "output_type": "execute_result"
    }
   ],
   "source": [
    "x.startswith(\"n\")"
   ]
  },
  {
   "cell_type": "code",
   "execution_count": 39,
   "id": "3e11d42f-bb98-4736-aa1b-a2b794c82671",
   "metadata": {},
   "outputs": [
    {
     "data": {
      "text/plain": [
       "True"
      ]
     },
     "execution_count": 39,
     "metadata": {},
     "output_type": "execute_result"
    }
   ],
   "source": [
    "x.endswith(\"?\")"
   ]
  },
  {
   "cell_type": "markdown",
   "id": "d87b5664-0134-4e24-9c48-77de2f839d44",
   "metadata": {},
   "source": [
    "## Liste"
   ]
  },
  {
   "cell_type": "markdown",
   "id": "073008d6-3f10-4b03-b162-e2ec260f66b6",
   "metadata": {},
   "source": [
    "* Değiştirilebilir. (Mutable)\n",
    "* Sıralıdır. İndex işlemleri yapılabilir. \n",
    "* Kapsayıcıdır."
   ]
  },
  {
   "cell_type": "code",
   "execution_count": 42,
   "id": "453ff8c4-b953-43cd-9580-8103b37820a3",
   "metadata": {},
   "outputs": [
    {
     "data": {
      "text/plain": [
       "10"
      ]
     },
     "execution_count": 42,
     "metadata": {},
     "output_type": "execute_result"
    }
   ],
   "source": [
    "myList = [10,20,30, \"miuul\", 40.5, \"harika\"]\n",
    "myList[0]"
   ]
  },
  {
   "cell_type": "code",
   "execution_count": 43,
   "id": "4c416dd0-3c93-4f81-8013-0da0a11214f8",
   "metadata": {},
   "outputs": [
    {
     "data": {
      "text/plain": [
       "[10, 20, 30, 'miuul']"
      ]
     },
     "execution_count": 43,
     "metadata": {},
     "output_type": "execute_result"
    }
   ],
   "source": [
    "myList[:4] # ilk 4 eleman"
   ]
  },
  {
   "cell_type": "code",
   "execution_count": 45,
   "id": "725355ec-4d36-4d6d-a2bf-7a6ad27cbe6c",
   "metadata": {},
   "outputs": [
    {
     "data": {
      "text/plain": [
       "'harika'"
      ]
     },
     "execution_count": 45,
     "metadata": {},
     "output_type": "execute_result"
    }
   ],
   "source": [
    "myList[-1] # Son eleman"
   ]
  },
  {
   "cell_type": "code",
   "execution_count": 46,
   "id": "4a9ddce7-2915-4e0b-8e40-b5634c8d333e",
   "metadata": {},
   "outputs": [
    {
     "data": {
      "text/plain": [
       "40.5"
      ]
     },
     "execution_count": 46,
     "metadata": {},
     "output_type": "execute_result"
    }
   ],
   "source": [
    "myList[-2] # Sondan ikinci eleman"
   ]
  },
  {
   "cell_type": "code",
   "execution_count": 47,
   "id": "b49fc600-0903-408b-af97-87a244e93dd6",
   "metadata": {},
   "outputs": [
    {
     "data": {
      "text/plain": [
       "['harika', 40.5, 'miuul', 30, 20, 10]"
      ]
     },
     "execution_count": 47,
     "metadata": {},
     "output_type": "execute_result"
    }
   ],
   "source": [
    "myList[::-1] # Listeyi tersine çevirmek"
   ]
  },
  {
   "cell_type": "code",
   "execution_count": 49,
   "id": "83760af9-ba78-40a7-9bb2-b45cbc194db2",
   "metadata": {},
   "outputs": [
    {
     "data": {
      "text/plain": [
       "[20, 'miuul', 'harika']"
      ]
     },
     "execution_count": 49,
     "metadata": {},
     "output_type": "execute_result"
    }
   ],
   "source": [
    "myList[1::2] # 1.İndexten (2.elaman) başlayarak 2şer 2şer yazdır. "
   ]
  },
  {
   "cell_type": "code",
   "execution_count": 50,
   "id": "f9bd10aa-4011-4624-a35e-4d295fb972b1",
   "metadata": {},
   "outputs": [
    {
     "data": {
      "text/plain": [
       "'postgresql'"
      ]
     },
     "execution_count": 50,
     "metadata": {},
     "output_type": "execute_result"
    }
   ],
   "source": [
    "myList2 = [[\"python\", \"postgresql\"], [\"HTML\", \"CSS\", \"JS\"], 33, 44, 55]\n",
    "myList2[0][1] # Liste içinde liste"
   ]
  },
  {
   "cell_type": "code",
   "execution_count": 51,
   "id": "8cf4adbe-a13b-4008-b8ee-14541b5c2487",
   "metadata": {},
   "outputs": [
    {
     "data": {
      "text/plain": [
       "'JS'"
      ]
     },
     "execution_count": 51,
     "metadata": {},
     "output_type": "execute_result"
    }
   ],
   "source": [
    "myList2[1][2]"
   ]
  },
  {
   "cell_type": "code",
   "execution_count": 52,
   "id": "3185d4a9-9e7d-4c9e-9c89-c5508e4ea920",
   "metadata": {},
   "outputs": [
    {
     "data": {
      "text/plain": [
       "[10, 20, 30, 'miuul', 40.5, 'harika']"
      ]
     },
     "execution_count": 52,
     "metadata": {},
     "output_type": "execute_result"
    }
   ],
   "source": [
    "myList"
   ]
  },
  {
   "cell_type": "code",
   "execution_count": 54,
   "id": "7171d0f6-9411-475b-846a-7d550e390b0e",
   "metadata": {},
   "outputs": [
    {
     "data": {
      "text/plain": [
       "[10, 20, 30, 'miuul', 40.5, 'süper']"
      ]
     },
     "execution_count": 54,
     "metadata": {},
     "output_type": "execute_result"
    }
   ],
   "source": [
    "myList[-1] = \"süper\" # son elemanı değiştir.\n",
    "myList"
   ]
  },
  {
   "cell_type": "markdown",
   "id": "a1679b24-c661-4738-ba95-dc19bc300984",
   "metadata": {},
   "source": [
    "### Liste Metodları"
   ]
  },
  {
   "cell_type": "markdown",
   "id": "3caa9c84-93d1-4b30-a2ba-78bcd4bae179",
   "metadata": {},
   "source": [
    "* **append():** Liste sonuna ekleme yapar."
   ]
  },
  {
   "cell_type": "code",
   "execution_count": 55,
   "id": "d981768b-1d45-4466-aba8-33c1b4ecab00",
   "metadata": {},
   "outputs": [
    {
     "data": {
      "text/plain": [
       "[10, 20, 30, 'miuul', 40.5, 'süper', 9999]"
      ]
     },
     "execution_count": 55,
     "metadata": {},
     "output_type": "execute_result"
    }
   ],
   "source": [
    "myList.append(9999)\n",
    "myList"
   ]
  },
  {
   "cell_type": "markdown",
   "id": "1246310e-e598-4d3c-9071-4588733dd8d7",
   "metadata": {},
   "source": [
    "* **insert():** Girilen indexe ekleme yapar."
   ]
  },
  {
   "cell_type": "code",
   "execution_count": 56,
   "id": "31c8e918-b08a-4d1e-9d8f-8789ead7e3db",
   "metadata": {},
   "outputs": [
    {
     "data": {
      "text/plain": [
       "[10, 8888, 20, 30, 'miuul', 40.5, 'süper', 9999]"
      ]
     },
     "execution_count": 56,
     "metadata": {},
     "output_type": "execute_result"
    }
   ],
   "source": [
    "myList.insert(1,8888) # 1.indexe yani 2.eleman olarak 8888 ekle.\n",
    "myList"
   ]
  },
  {
   "cell_type": "markdown",
   "id": "28048e73-6d51-49a9-a095-1aa89b22d8b8",
   "metadata": {},
   "source": [
    "* **pop():** İndexe göre eleman silme."
   ]
  },
  {
   "cell_type": "code",
   "execution_count": 57,
   "id": "3b967966-5956-4e22-9d5f-a159f7fa105f",
   "metadata": {},
   "outputs": [
    {
     "data": {
      "text/plain": [
       "8888"
      ]
     },
     "execution_count": 57,
     "metadata": {},
     "output_type": "execute_result"
    }
   ],
   "source": [
    "myList.pop(1) # Silinen elemanı gösterir."
   ]
  },
  {
   "cell_type": "code",
   "execution_count": 58,
   "id": "318d5486-742a-4b2e-8b87-0eea4712b099",
   "metadata": {},
   "outputs": [
    {
     "data": {
      "text/plain": [
       "[10, 20, 30, 'miuul', 40.5, 'süper', 9999]"
      ]
     },
     "execution_count": 58,
     "metadata": {},
     "output_type": "execute_result"
    }
   ],
   "source": [
    "myList"
   ]
  },
  {
   "cell_type": "markdown",
   "id": "a06f5c25-690d-466a-8aaf-2b8cd8cfd551",
   "metadata": {},
   "source": [
    "## Sözlük (Dictionary)"
   ]
  },
  {
   "cell_type": "markdown",
   "id": "f8377aee-3fd4-4362-afe7-dabdfc5cdeda",
   "metadata": {},
   "source": [
    "* key:value şeklinde değer tutarlar.  \n",
    "* key üzerinden value değerine erişiriz."
   ]
  },
  {
   "cell_type": "code",
   "execution_count": 62,
   "id": "7b06223a-6868-42b8-9f96-80d5e58bdc4b",
   "metadata": {},
   "outputs": [
    {
     "data": {
      "text/plain": [
       "{'Ankara': '06', 'Bursa': '16', 'İstanbul': '34', 'İzmir': '35'}"
      ]
     },
     "execution_count": 62,
     "metadata": {},
     "output_type": "execute_result"
    }
   ],
   "source": [
    "iller = {\"Ankara\":\"06\", \"Bursa\":\"16\", \"İstanbul\":\"34\", \"İzmir\":\"35\"}\n",
    "iller"
   ]
  },
  {
   "cell_type": "markdown",
   "id": "2d190374-86fa-4b27-944a-e606b93729cc",
   "metadata": {},
   "source": [
    "* **keys:** Dict içerisinden \"key\" değerlerini döndürür.  \n",
    "* **values:** Dict içerisinden \"value\" değerlerini döndürür."
   ]
  },
  {
   "cell_type": "code",
   "execution_count": 64,
   "id": "96e03429-3515-40d0-9439-7dbc10eb542e",
   "metadata": {},
   "outputs": [
    {
     "data": {
      "text/plain": [
       "dict_keys(['Ankara', 'Bursa', 'İstanbul', 'İzmir'])"
      ]
     },
     "execution_count": 64,
     "metadata": {},
     "output_type": "execute_result"
    }
   ],
   "source": [
    "iller.keys()"
   ]
  },
  {
   "cell_type": "code",
   "execution_count": 66,
   "id": "5cd45b38-f149-44fa-a4d6-252965446e09",
   "metadata": {},
   "outputs": [
    {
     "data": {
      "text/plain": [
       "['Ankara', 'Bursa', 'İstanbul', 'İzmir']"
      ]
     },
     "execution_count": 66,
     "metadata": {},
     "output_type": "execute_result"
    }
   ],
   "source": [
    "list(iller.keys()) # List dönüşümü yaparak kullanılabilir."
   ]
  },
  {
   "cell_type": "code",
   "execution_count": 65,
   "id": "10a4e20b-9567-4bc4-97c2-dcfff239b90f",
   "metadata": {},
   "outputs": [
    {
     "data": {
      "text/plain": [
       "dict_values(['06', '16', '34', '35'])"
      ]
     },
     "execution_count": 65,
     "metadata": {},
     "output_type": "execute_result"
    }
   ],
   "source": [
    "iller.values()"
   ]
  },
  {
   "cell_type": "code",
   "execution_count": 67,
   "id": "a2457356-520e-4a5d-8f0c-606fcf42a8e9",
   "metadata": {},
   "outputs": [
    {
     "data": {
      "text/plain": [
       "['06', '16', '34', '35']"
      ]
     },
     "execution_count": 67,
     "metadata": {},
     "output_type": "execute_result"
    }
   ],
   "source": [
    "list(iller.values()) # List dönüşümü yaparak kullanılabilir."
   ]
  },
  {
   "cell_type": "code",
   "execution_count": 69,
   "id": "e3ca77cf-4d08-400c-84d3-398f6bb342e9",
   "metadata": {},
   "outputs": [
    {
     "data": {
      "text/plain": [
       "'06'"
      ]
     },
     "execution_count": 69,
     "metadata": {},
     "output_type": "execute_result"
    }
   ],
   "source": [
    "iller[\"Ankara\"] # \"Ankara\" key üzerinden erişim yapıyoruz."
   ]
  },
  {
   "cell_type": "code",
   "execution_count": 72,
   "id": "21b3a014-2449-40c0-845b-d3c2dd4c0b32",
   "metadata": {},
   "outputs": [
    {
     "data": {
      "text/plain": [
       "True"
      ]
     },
     "execution_count": 72,
     "metadata": {},
     "output_type": "execute_result"
    }
   ],
   "source": [
    "\"Ankara\" in iller # NOT: Key üzerinden bu sorguyu yapar"
   ]
  },
  {
   "cell_type": "code",
   "execution_count": 73,
   "id": "796a0486-6da4-43c6-b857-b59d39ca96c7",
   "metadata": {},
   "outputs": [
    {
     "data": {
      "text/plain": [
       "False"
      ]
     },
     "execution_count": 73,
     "metadata": {},
     "output_type": "execute_result"
    }
   ],
   "source": [
    "\"06\" in iller # value üzerinden sorgu yapılmaz."
   ]
  },
  {
   "cell_type": "code",
   "execution_count": 76,
   "id": "b3858a43-fc14-483e-83a4-2e5ca3db458c",
   "metadata": {},
   "outputs": [
    {
     "data": {
      "text/plain": [
       "{'Ankara': '000',\n",
       " 'Bursa': '16',\n",
       " 'İstanbul': '34',\n",
       " 'İzmir': '35',\n",
       " 'Sivas': '58'}"
      ]
     },
     "execution_count": 76,
     "metadata": {},
     "output_type": "execute_result"
    }
   ],
   "source": [
    "iller[\"Sivas\"] = \"58\" # Yeni bir değer eklemek\n",
    "iller[\"Ankara\"] = \"000\" # Mevcut değeri değiştiriyoruz.\n",
    "iller"
   ]
  },
  {
   "cell_type": "code",
   "execution_count": 77,
   "id": "bcf28454-90fe-4198-9198-ec904e7619f0",
   "metadata": {},
   "outputs": [],
   "source": [
    "iller[\"Ankara\"] = \"06\""
   ]
  },
  {
   "cell_type": "markdown",
   "id": "5dd03783-2347-492a-8040-c90fc2cfe256",
   "metadata": {},
   "source": [
    "## Demet (Tuple)"
   ]
  },
  {
   "cell_type": "markdown",
   "id": "ec4ee6a0-8db1-4259-ac02-cf3082837eed",
   "metadata": {},
   "source": [
    "* Değiştirilemezler (immutable). En önemli özelliği bu."
   ]
  },
  {
   "cell_type": "code",
   "execution_count": 80,
   "id": "203bac0a-7ccf-48cd-bf24-ec33c091d332",
   "metadata": {},
   "outputs": [
    {
     "data": {
      "text/plain": [
       "('Neler', 'Oluyor', 'Hayatta?', 1, 2, 4, 2, 3)"
      ]
     },
     "execution_count": 80,
     "metadata": {},
     "output_type": "execute_result"
    }
   ],
   "source": [
    "t = (\"Neler\", \"Oluyor\", \"Hayatta?\", 1, 2,4,2, 3)\n",
    "t"
   ]
  },
  {
   "cell_type": "code",
   "execution_count": 79,
   "id": "b4bb11a7-3414-4d18-a6db-2dcdab083a56",
   "metadata": {
    "scrolled": true,
    "tags": []
   },
   "outputs": [
    {
     "data": {
      "text/plain": [
       "['__add__',\n",
       " '__class__',\n",
       " '__class_getitem__',\n",
       " '__contains__',\n",
       " '__delattr__',\n",
       " '__dir__',\n",
       " '__doc__',\n",
       " '__eq__',\n",
       " '__format__',\n",
       " '__ge__',\n",
       " '__getattribute__',\n",
       " '__getitem__',\n",
       " '__getnewargs__',\n",
       " '__gt__',\n",
       " '__hash__',\n",
       " '__init__',\n",
       " '__init_subclass__',\n",
       " '__iter__',\n",
       " '__le__',\n",
       " '__len__',\n",
       " '__lt__',\n",
       " '__mul__',\n",
       " '__ne__',\n",
       " '__new__',\n",
       " '__reduce__',\n",
       " '__reduce_ex__',\n",
       " '__repr__',\n",
       " '__rmul__',\n",
       " '__setattr__',\n",
       " '__sizeof__',\n",
       " '__str__',\n",
       " '__subclasshook__',\n",
       " 'count',\n",
       " 'index']"
      ]
     },
     "execution_count": 79,
     "metadata": {},
     "output_type": "execute_result"
    }
   ],
   "source": [
    "dir(t) # Kullanılabilecek metodları sadece 2 tane."
   ]
  },
  {
   "cell_type": "markdown",
   "id": "ea87aab4-5f5d-4bff-8a41-8af0bb90035b",
   "metadata": {},
   "source": [
    "* **count():** Girilen eleman için sayma işlemi yapar.  \n",
    "* **index():** Girilen indeksteki değeri döndürür."
   ]
  },
  {
   "cell_type": "code",
   "execution_count": 81,
   "id": "33c978e1-8167-438e-92c7-c099fbb39dfa",
   "metadata": {},
   "outputs": [
    {
     "data": {
      "text/plain": [
       "2"
      ]
     },
     "execution_count": 81,
     "metadata": {},
     "output_type": "execute_result"
    }
   ],
   "source": [
    "t.count(2) # kaç tane 2 var?"
   ]
  },
  {
   "cell_type": "code",
   "execution_count": 83,
   "id": "1cca6335-8a55-4b20-92fb-09d5260e45ab",
   "metadata": {},
   "outputs": [
    {
     "data": {
      "text/plain": [
       "4"
      ]
     },
     "execution_count": 83,
     "metadata": {},
     "output_type": "execute_result"
    }
   ],
   "source": [
    "t.index(2) # 2 değerinin indeksini döndür.\n",
    "# 2 tane 2 değeri var ilk gördüğü 2 değerinin indeksini döndürür."
   ]
  },
  {
   "cell_type": "code",
   "execution_count": 84,
   "id": "9f87fb41-344e-4bbf-b74d-7694badb25c6",
   "metadata": {},
   "outputs": [
    {
     "ename": "TypeError",
     "evalue": "'tuple' object does not support item assignment",
     "output_type": "error",
     "traceback": [
      "\u001b[1;31m---------------------------------------------------------------------------\u001b[0m",
      "\u001b[1;31mTypeError\u001b[0m                                 Traceback (most recent call last)",
      "Input \u001b[1;32mIn [84]\u001b[0m, in \u001b[0;36m<cell line: 1>\u001b[1;34m()\u001b[0m\n\u001b[1;32m----> 1\u001b[0m t[\u001b[38;5;241m0\u001b[39m] \u001b[38;5;241m=\u001b[39m \u001b[38;5;124m\"\u001b[39m\u001b[38;5;124m999\u001b[39m\u001b[38;5;124m\"\u001b[39m\n",
      "\u001b[1;31mTypeError\u001b[0m: 'tuple' object does not support item assignment"
     ]
    }
   ],
   "source": [
    "t[0] = \"999\" # Değiştirilemezler. Hata...."
   ]
  },
  {
   "cell_type": "markdown",
   "id": "f23e3039-20a0-44f2-9f76-0453f3aebfd2",
   "metadata": {},
   "source": [
    "## Set"
   ]
  },
  {
   "cell_type": "markdown",
   "id": "e67bead5-d058-4966-a02d-dd310b2c27d7",
   "metadata": {},
   "source": [
    "* Matematikteki kümeler olarak düşünebiliriz.  \n",
    "* Her elemandan 1 tane tutar.  "
   ]
  },
  {
   "cell_type": "markdown",
   "id": "3372d2ec-001a-4308-8b87-4187651134ea",
   "metadata": {},
   "source": [
    "* **difference():** İki kümenin farkı  \n",
    "* **symmetric_difference():** İki kümede de birbirinde olmayanların kümesi"
   ]
  },
  {
   "cell_type": "code",
   "execution_count": 89,
   "id": "ff5af26f-7397-4225-98c1-3863a9bf42b2",
   "metadata": {},
   "outputs": [],
   "source": [
    "set1 = {1,2,3,4,5,6,7,7,7,8} # 3 Tane 7 olmasına rağmen sadece 1 tane tutacaktır.\n",
    "set2 = {7,7,8,9,2,3,4} # 2 Tane 7 olmasına rağmen sadece 1 tane tutacaktır."
   ]
  },
  {
   "cell_type": "code",
   "execution_count": 90,
   "id": "3a3ca776-2928-40b8-9f91-7e75c3dbf1ff",
   "metadata": {},
   "outputs": [
    {
     "name": "stdout",
     "output_type": "stream",
     "text": [
      "{1, 2, 3, 4, 5, 6, 7, 8}\n",
      "{2, 3, 4, 7, 8, 9}\n"
     ]
    }
   ],
   "source": [
    "print(set1)\n",
    "print(set2)"
   ]
  },
  {
   "cell_type": "code",
   "execution_count": 91,
   "id": "b2e05a5f-b9ad-4fb4-95dd-67ab90a45b3a",
   "metadata": {},
   "outputs": [
    {
     "data": {
      "text/plain": [
       "{1, 5, 6}"
      ]
     },
     "execution_count": 91,
     "metadata": {},
     "output_type": "execute_result"
    }
   ],
   "source": [
    "set1.difference(set2) # set1'de olup, set2'de olmayan elemanlar"
   ]
  },
  {
   "cell_type": "code",
   "execution_count": 92,
   "id": "a56ee7dd-4d6c-4661-8c1a-5adfd8560a65",
   "metadata": {},
   "outputs": [
    {
     "data": {
      "text/plain": [
       "{9}"
      ]
     },
     "execution_count": 92,
     "metadata": {},
     "output_type": "execute_result"
    }
   ],
   "source": [
    "set2.difference(set1) # set2'de olup, set1'de olmayan elemanlar"
   ]
  },
  {
   "cell_type": "code",
   "execution_count": 98,
   "id": "b24ecbc3-b0d4-439c-92cf-b0b1e3e5b02b",
   "metadata": {},
   "outputs": [
    {
     "data": {
      "text/plain": [
       "{1, 5, 6, 9}"
      ]
     },
     "execution_count": 98,
     "metadata": {},
     "output_type": "execute_result"
    }
   ],
   "source": [
    "# İki kullanımda sonucu değiştirmez.\n",
    "\n",
    "set1.symmetric_difference(set2)\n",
    "set2.symmetric_difference(set1)"
   ]
  },
  {
   "cell_type": "markdown",
   "id": "ea7b18f5-89bd-478e-bf27-8604e801bd09",
   "metadata": {},
   "source": [
    "* **intersection():** İki kümenin kesişimi"
   ]
  },
  {
   "cell_type": "code",
   "execution_count": 94,
   "id": "89af5fca-e777-4628-bfdc-7e2ccf279391",
   "metadata": {},
   "outputs": [
    {
     "data": {
      "text/plain": [
       "{2, 3, 4, 7, 8}"
      ]
     },
     "execution_count": 94,
     "metadata": {},
     "output_type": "execute_result"
    }
   ],
   "source": [
    "set1.intersection(set2)"
   ]
  },
  {
   "cell_type": "markdown",
   "id": "cda689a7-5d96-49c2-a138-b18c5275545d",
   "metadata": {},
   "source": [
    "* **union():** İki kümenin birleşimi  \n"
   ]
  },
  {
   "cell_type": "code",
   "execution_count": 95,
   "id": "095af53b-4815-4829-b031-ddef13e76770",
   "metadata": {},
   "outputs": [
    {
     "data": {
      "text/plain": [
       "{1, 2, 3, 4, 5, 6, 7, 8, 9}"
      ]
     },
     "execution_count": 95,
     "metadata": {},
     "output_type": "execute_result"
    }
   ],
   "source": [
    "set1.union(set2)"
   ]
  },
  {
   "cell_type": "markdown",
   "id": "b3830ebb-dbd3-434a-a8b5-54603fd21ee0",
   "metadata": {},
   "source": [
    "***NOT:***\n",
    "\n",
    "* **& :** İki kümenin kesişimi  \n",
    "* **- :** İki kümenin farkı"
   ]
  },
  {
   "cell_type": "code",
   "execution_count": 102,
   "id": "6526826d-34e4-43f9-ac7d-48ea6cb603ac",
   "metadata": {},
   "outputs": [
    {
     "data": {
      "text/plain": [
       "{2, 3, 4, 7, 8}"
      ]
     },
     "execution_count": 102,
     "metadata": {},
     "output_type": "execute_result"
    }
   ],
   "source": [
    "set1 & set2 # kesişim"
   ]
  },
  {
   "cell_type": "code",
   "execution_count": 103,
   "id": "ef70fccc-27f5-4886-b005-2f4185b38007",
   "metadata": {},
   "outputs": [
    {
     "data": {
      "text/plain": [
       "{1, 5, 6}"
      ]
     },
     "execution_count": 103,
     "metadata": {},
     "output_type": "execute_result"
    }
   ],
   "source": [
    "set1 - set2 # set1 de olup, set2 de olmayan"
   ]
  },
  {
   "cell_type": "markdown",
   "id": "860bdad9-341a-4e58-b127-59eb25995695",
   "metadata": {
    "tags": []
   },
   "source": [
    "* **isdisjoint():** Kümelerin kesişimi boş mu?"
   ]
  },
  {
   "cell_type": "code",
   "execution_count": 104,
   "id": "d3cafccc-d6af-4246-8704-8c5ef3d3d5bc",
   "metadata": {},
   "outputs": [
    {
     "data": {
      "text/plain": [
       "False"
      ]
     },
     "execution_count": 104,
     "metadata": {},
     "output_type": "execute_result"
    }
   ],
   "source": [
    "set1.isdisjoint(set2)"
   ]
  },
  {
   "cell_type": "markdown",
   "id": "c4189314-b21a-4ba7-acd1-2ad0abde22cc",
   "metadata": {},
   "source": [
    "* **issubset():** Bir küme diğer kümenin alt kümesi mi?"
   ]
  },
  {
   "cell_type": "code",
   "execution_count": 105,
   "id": "a80fa3e9-2da9-4168-ab31-7d4e335355db",
   "metadata": {},
   "outputs": [
    {
     "data": {
      "text/plain": [
       "False"
      ]
     },
     "execution_count": 105,
     "metadata": {},
     "output_type": "execute_result"
    }
   ],
   "source": [
    "set2.issubset(set1)"
   ]
  },
  {
   "cell_type": "markdown",
   "id": "cfe89530-d1af-4b18-8117-3189ea6700ed",
   "metadata": {},
   "source": [
    "* **issuperset():** Bir küme diğerini kapsıyor mu?"
   ]
  },
  {
   "cell_type": "code",
   "execution_count": 107,
   "id": "fce2165b-9b00-4d8e-bcb1-8b40c7b82fb8",
   "metadata": {},
   "outputs": [
    {
     "data": {
      "text/plain": [
       "False"
      ]
     },
     "execution_count": 107,
     "metadata": {},
     "output_type": "execute_result"
    }
   ],
   "source": [
    "set1.issubset(set2)"
   ]
  },
  {
   "cell_type": "markdown",
   "id": "7030c135-f610-4dde-b77d-1bc1058aeaf7",
   "metadata": {},
   "source": [
    "# Fonksiyonlar"
   ]
  },
  {
   "cell_type": "markdown",
   "id": "d14f88af-6779-46bc-b624-3f69ffdbf321",
   "metadata": {},
   "source": [
    "* **help():** Fonksiyonların dökümantasyonuna erişim sağlar."
   ]
  },
  {
   "cell_type": "code",
   "execution_count": 108,
   "id": "fbe8e889-720f-4dc6-adea-075cf04dcef3",
   "metadata": {},
   "outputs": [
    {
     "name": "stdout",
     "output_type": "stream",
     "text": [
      "Help on built-in function print in module builtins:\n",
      "\n",
      "print(...)\n",
      "    print(value, ..., sep=' ', end='\\n', file=sys.stdout, flush=False)\n",
      "    \n",
      "    Prints the values to a stream, or to sys.stdout by default.\n",
      "    Optional keyword arguments:\n",
      "    file:  a file-like object (stream); defaults to the current sys.stdout.\n",
      "    sep:   string inserted between values, default a space.\n",
      "    end:   string appended after the last value, default a newline.\n",
      "    flush: whether to forcibly flush the stream.\n",
      "\n"
     ]
    }
   ],
   "source": [
    "help(print)"
   ]
  },
  {
   "cell_type": "code",
   "execution_count": 109,
   "id": "f36ab6f3-3b1b-4b52-ab9a-15f6ae27d2f2",
   "metadata": {},
   "outputs": [
    {
     "name": "stdout",
     "output_type": "stream",
     "text": [
      "10\n"
     ]
    }
   ],
   "source": [
    "# Fonksiyon tanımlama\n",
    "\n",
    "def calculate(x):\n",
    "    print(x*2)\n",
    "\n",
    "calculate(5) # Fonksiyonu çağırıyoruz."
   ]
  },
  {
   "cell_type": "code",
   "execution_count": 111,
   "id": "b86526f5-9faa-4ca1-9bd6-4ed6d3dae05c",
   "metadata": {},
   "outputs": [
    {
     "data": {
      "text/plain": [
       "120"
      ]
     },
     "execution_count": 111,
     "metadata": {},
     "output_type": "execute_result"
    }
   ],
   "source": [
    "# Multiple parameter func.\n",
    "\n",
    "def calculate2(x,y,z):\n",
    "    return x*y*z\n",
    "\n",
    "result = calculate2(4,5,6)\n",
    "result"
   ]
  },
  {
   "cell_type": "markdown",
   "id": "f62f1a8a-b972-42f7-8d9f-ba2faaf3bc14",
   "metadata": {},
   "source": [
    "* ***DOCSTRING:*** Fonksiyonları herkesin anlayabilmesi için fonksiyonların işlevini anlatan metinlerdir."
   ]
  },
  {
   "cell_type": "code",
   "execution_count": 112,
   "id": "b821d257-1344-4032-86bf-8a3921dbecd6",
   "metadata": {},
   "outputs": [],
   "source": [
    "def summer(arg1, arg2):\n",
    "    \"\"\"\n",
    "    Sum of two numbers\n",
    "    ----------\n",
    "    \n",
    "    Parameters/Args\n",
    "    ----------\n",
    "    arg1: int, float\n",
    "    \n",
    "    arg2: int, float\n",
    "    \n",
    "    Returns\n",
    "    ----------\n",
    "    int, float\n",
    "    \n",
    "    \"\"\"\n",
    "    print(arg1 + arg2)"
   ]
  },
  {
   "cell_type": "code",
   "execution_count": 113,
   "id": "786919ee-44bd-4505-a4c4-d202175a5ce3",
   "metadata": {},
   "outputs": [
    {
     "data": {
      "text/plain": [
       "\u001b[1;31mSignature:\u001b[0m \u001b[0msummer\u001b[0m\u001b[1;33m(\u001b[0m\u001b[0marg1\u001b[0m\u001b[1;33m,\u001b[0m \u001b[0marg2\u001b[0m\u001b[1;33m)\u001b[0m\u001b[1;33m\u001b[0m\u001b[1;33m\u001b[0m\u001b[0m\n",
       "\u001b[1;31mDocstring:\u001b[0m\n",
       "Sum of two numbers\n",
       "----------\n",
       "\n",
       "Parameters/Args\n",
       "----------\n",
       "arg1: int, float\n",
       "\n",
       "arg2: int, float\n",
       "\n",
       "Returns\n",
       "----------\n",
       "int, float\n",
       "\u001b[1;31mFile:\u001b[0m      c:\\users\\ahmet\\appdata\\local\\temp\\ipykernel_12848\\2287827440.py\n",
       "\u001b[1;31mType:\u001b[0m      function\n"
      ]
     },
     "metadata": {},
     "output_type": "display_data"
    }
   ],
   "source": [
    "?summer # Yazdığımız docstring'i görüyoruz."
   ]
  },
  {
   "cell_type": "code",
   "execution_count": 115,
   "id": "2f1a790e-4e18-47dc-9add-cfe1883b6c29",
   "metadata": {},
   "outputs": [
    {
     "name": "stdout",
     "output_type": "stream",
     "text": [
      "44\n"
     ]
    }
   ],
   "source": [
    "summer(11,33)"
   ]
  },
  {
   "cell_type": "code",
   "execution_count": 116,
   "id": "e5d54a86-40a6-4434-a96d-5e649c0cb79c",
   "metadata": {},
   "outputs": [
    {
     "name": "stdout",
     "output_type": "stream",
     "text": [
      "Hi\n",
      "Miuul\n"
     ]
    }
   ],
   "source": [
    "# Parametresiz fonksiyon\n",
    "\n",
    "def say_hi():\n",
    "    print(\"Hi\")\n",
    "    print(\"Miuul\")\n",
    "say_hi()"
   ]
  },
  {
   "cell_type": "code",
   "execution_count": 117,
   "id": "c670ef90-f367-493d-9012-dc6c5e8aff02",
   "metadata": {},
   "outputs": [
    {
     "name": "stdout",
     "output_type": "stream",
     "text": [
      "90\n"
     ]
    }
   ],
   "source": [
    "def multiplication(sayi1, sayi2):\n",
    "    c = sayi1 * sayi2\n",
    "    print(c)\n",
    "\n",
    "multiplication(9,10)"
   ]
  },
  {
   "cell_type": "code",
   "execution_count": 120,
   "id": "90da69ba-d455-4512-9c04-3fe3a66df1e7",
   "metadata": {},
   "outputs": [
    {
     "name": "stdout",
     "output_type": "stream",
     "text": [
      "[14]\n",
      "[14, 24]\n",
      "[14, 24, 36]\n",
      "[14, 24, 36, 50]\n"
     ]
    }
   ],
   "source": [
    "# Girilen değerlerin çarpımını bir liste içinde saklayacak fonksiyon.\n",
    "\n",
    "myList = [] # Global Area\n",
    "\n",
    "def addElement(a, b):\n",
    "    c = a*b\n",
    "    myList.append(c) # Local Area\n",
    "    print(myList)\n",
    "\n",
    "addElement(2,7)\n",
    "addElement(3,8)\n",
    "addElement(4,9)\n",
    "addElement(5,10)"
   ]
  },
  {
   "cell_type": "code",
   "execution_count": 121,
   "id": "e65e7c12-e481-480f-b6d6-12228f2cb0e6",
   "metadata": {},
   "outputs": [
    {
     "name": "stdout",
     "output_type": "stream",
     "text": [
      "10.0\n",
      "22.0\n",
      "11.0\n",
      "3.0\n"
     ]
    }
   ],
   "source": [
    "# Ön tanımlı parametre içeren fonksiyonlar\n",
    "\n",
    "def divide(a, b=1): # 2 parametre gelmediği sürece b=1 kabul edilir.\n",
    "    print(a/b)\n",
    "    \n",
    "divide(10)\n",
    "divide(22)\n",
    "divide(33,3)\n",
    "divide(66,22)"
   ]
  },
  {
   "cell_type": "markdown",
   "id": "a8b31766-e64c-4856-bce6-704887dba1da",
   "metadata": {},
   "source": [
    "--- \n",
    "***NOT:*** \n",
    "* Tekrar edilen eylemlerin fonksiyonları yazılarak kolaylık sağlanır.\n",
    "--- "
   ]
  },
  {
   "cell_type": "code",
   "execution_count": 122,
   "id": "566bfe94-d11b-47e4-ad13-7bd8cf3da349",
   "metadata": {},
   "outputs": [
    {
     "data": {
      "text/plain": [
       "14.102564102564104"
      ]
     },
     "execution_count": 122,
     "metadata": {},
     "output_type": "execute_result"
    }
   ],
   "source": [
    "# Return ile fonksiyon çıktısını kullanma imkanı kazanırız.\n",
    "\n",
    "def calculate(varm, moisture, charge):\n",
    "    return (varm + moisture)/charge\n",
    "\n",
    "result = calculate(98, 12, 78) * 10\n",
    "result"
   ]
  },
  {
   "cell_type": "code",
   "execution_count": 133,
   "id": "e4abce88-2e1a-4363-98fb-09c07f05d4ef",
   "metadata": {},
   "outputs": [
    {
     "name": "stdout",
     "output_type": "stream",
     "text": [
      "144.00000000000003\n"
     ]
    }
   ],
   "source": [
    "# Fonksiyon içerisinden fonksiyon çağırmak\n",
    "\n",
    "def calculate(varm, moisture, charge):\n",
    "    return int((varm + moisture)/charge)\n",
    "\n",
    "def standardization(a, p):\n",
    "    return a * 10 / 100 * p * p\n",
    "\n",
    "def all_calculation(varm, moisture, charge, p):\n",
    "    a = calculate(varm, moisture, charge)\n",
    "    b = standardization(a, p)\n",
    "    print(b*10)\n",
    "\n",
    "all_calculation(4, 7, 9, 12)"
   ]
  },
  {
   "cell_type": "code",
   "execution_count": 137,
   "id": "c4c5683d-48c7-4030-9221-9b6afa9439cc",
   "metadata": {},
   "outputs": [
    {
     "name": "stdout",
     "output_type": "stream",
     "text": [
      "[1, 2, 1453]\n"
     ]
    }
   ],
   "source": [
    "# Local & Global Değişkenler\n",
    "\n",
    "list_store = [1, 2] # Global değişken\n",
    "\n",
    "def add_element(a, b):\n",
    "    c = a * b + 1 # Local değişken \"c\"\n",
    "    list_store.append(c)\n",
    "    print(list_store)\n",
    "\n",
    "add_element(33, 44)"
   ]
  },
  {
   "cell_type": "markdown",
   "id": "e2ed2f54-de23-478e-9373-5c35a83a3311",
   "metadata": {},
   "source": [
    "# Koşullar"
   ]
  },
  {
   "cell_type": "code",
   "execution_count": 141,
   "id": "af99f7db-fe9f-49eb-b066-b395834b5669",
   "metadata": {},
   "outputs": [
    {
     "name": "stdout",
     "output_type": "stream",
     "text": [
      "Hayır\n"
     ]
    }
   ],
   "source": [
    "x = 10\n",
    "if x == 11:\n",
    "    print(\"Evet\")\n",
    "else:\n",
    "    print(\"Hayır\")"
   ]
  },
  {
   "cell_type": "code",
   "execution_count": 140,
   "id": "fe2a775e-a4a4-408f-a72b-862e596bdf17",
   "metadata": {},
   "outputs": [
    {
     "name": "stdout",
     "output_type": "stream",
     "text": [
      "7 5'den büyüktür.\n"
     ]
    }
   ],
   "source": [
    "a = 5\n",
    "b = 7\n",
    "\n",
    "if a > b:\n",
    "    print(f\"{a} {b}'den büyüktür.\")\n",
    "elif a < b:\n",
    "    print(f\"{b} {a}'den büyüktür.\")\n",
    "else:\n",
    "    print(f\"{a} {b}'ye eşittir.\")"
   ]
  },
  {
   "cell_type": "markdown",
   "id": "2a1cc140-9e23-42ff-a54b-b95002ed9243",
   "metadata": {},
   "source": [
    "# Döngüler"
   ]
  },
  {
   "cell_type": "markdown",
   "id": "16bc0795-1291-4c02-a342-7c78278bc0b8",
   "metadata": {},
   "source": [
    "## For Döngüsü"
   ]
  },
  {
   "cell_type": "code",
   "execution_count": 142,
   "id": "6e1eaa95-e900-4191-9205-84ac9c8df381",
   "metadata": {},
   "outputs": [
    {
     "name": "stdout",
     "output_type": "stream",
     "text": [
      "Ankara\n",
      "Bursa\n",
      "İstanbul\n",
      "İzmir\n"
     ]
    }
   ],
   "source": [
    "myList = [\"Ankara\", \"Bursa\", \"İstanbul\", \"İzmir\"]\n",
    "\n",
    "for i in myList:\n",
    "    print(i)"
   ]
  },
  {
   "cell_type": "code",
   "execution_count": 149,
   "id": "ee1e7ce8-4cac-4a8f-a3a7-4e8b446272e3",
   "metadata": {},
   "outputs": [
    {
     "name": "stdout",
     "output_type": "stream",
     "text": [
      "1200.0\n",
      "2400.0\n",
      "3600.0\n",
      "4800.0\n",
      "6000.0\n"
     ]
    }
   ],
   "source": [
    "# Maaşlara zam yapalım.\n",
    "\n",
    "salaries = [1000, 2000, 3000, 4000, 5000]\n",
    "\n",
    "def new_salary(salary, rate):\n",
    "    return salary*rate/100+salary\n",
    "\n",
    "for salary in salaries:\n",
    "    print(new_salary(salary, 20))"
   ]
  },
  {
   "cell_type": "code",
   "execution_count": 150,
   "id": "c6e1f96a-3e17-4c88-bbcb-f251d241b61a",
   "metadata": {},
   "outputs": [
    {
     "name": "stdout",
     "output_type": "stream",
     "text": [
      "1300.0\n",
      "2600.0\n",
      "3600.0\n",
      "4800.0\n",
      "6000.0\n"
     ]
    }
   ],
   "source": [
    "# Mevcut maaşlara göre zam oranı\n",
    "\n",
    "salaries = [1000, 2000, 3000, 4000, 5000]\n",
    "\n",
    "def new_salary(salary, rate):\n",
    "    return salary*rate/100+salary\n",
    "\n",
    "for salary in salaries:\n",
    "    if salary >= 3000:\n",
    "        print(new_salary(salary, 20))\n",
    "    else:\n",
    "        print(new_salary(salary, 30))\n"
   ]
  },
  {
   "cell_type": "code",
   "execution_count": 148,
   "id": "9bde0f7a-882c-4ae8-b2f5-e2afe9ad6626",
   "metadata": {},
   "outputs": [
    {
     "name": "stdout",
     "output_type": "stream",
     "text": [
      "JOHN\n",
      "MARK\n",
      "VENESSA\n",
      "MARIAM\n"
     ]
    }
   ],
   "source": [
    "# Dictionary elemanlarına erişmek\n",
    "\n",
    "students = [\"John\", \"Mark\", \"Venessa\", \"Mariam\"]\n",
    "\n",
    "for student in students:\n",
    "    print(student.upper())"
   ]
  },
  {
   "cell_type": "code",
   "execution_count": 146,
   "id": "1d968dca-e8bd-4b57-9d0b-aa2c5f8286d3",
   "metadata": {},
   "outputs": [
    {
     "name": "stdout",
     "output_type": "stream",
     "text": [
      "Ankara 06\n",
      "Bursa 16\n",
      "İstanbul 34\n"
     ]
    }
   ],
   "source": [
    "myDict = {\"Ankara\":\"06\", \"Bursa\":\"16\", \"İstanbul\":\"34\"}\n",
    "\n",
    "for key, value in myDict.items():\n",
    "    print(key, value)\n",
    "    "
   ]
  },
  {
   "cell_type": "markdown",
   "id": "61aec94e-265e-488d-9aea-065868e42da6",
   "metadata": {},
   "source": [
    "## Uygulama - Mülakat Sorusu"
   ]
  },
  {
   "cell_type": "markdown",
   "id": "3165e50a-54e9-464d-8884-a2b56a33b552",
   "metadata": {},
   "source": [
    "* **AMAÇ:**  \n",
    "Çift indexteki elemanları büyüt, tek indexteki elemanları küçült."
   ]
  },
  {
   "cell_type": "code",
   "execution_count": 159,
   "id": "62fc2213-373d-4f6c-b0df-53b7ae2e788b",
   "metadata": {},
   "outputs": [
    {
     "name": "stdout",
     "output_type": "stream",
     "text": [
      "Hi mY NaMe iS JoHn aNd i aM LeArNiNg pYtHoN\n"
     ]
    }
   ],
   "source": [
    "myString = \"hi my name is john and i am learning python\"\n",
    "\n",
    "def alternating(string):\n",
    "    new_string = \"\"\n",
    "    for i in range(len(string)):\n",
    "        if i % 2 == 0:\n",
    "            new_string = new_string + string[i].upper()\n",
    "        else:\n",
    "            new_string = new_string +  string[i].lower()\n",
    "    print(new_string)\n",
    "alternating(myString)"
   ]
  },
  {
   "cell_type": "markdown",
   "id": "45073158-b48c-4e5f-b7ce-949be1fe01e7",
   "metadata": {},
   "source": [
    "## While Döngüsü"
   ]
  },
  {
   "cell_type": "markdown",
   "id": "734efbc8-2aa7-4b04-91ef-77b8438bda02",
   "metadata": {},
   "source": [
    "* **break:** Döngüden çıkar.  \n",
    "* **continue:** Döngüyü başa alır."
   ]
  },
  {
   "cell_type": "code",
   "execution_count": 163,
   "id": "001220bf-df1c-47cf-9bcf-71e68d72e3bf",
   "metadata": {},
   "outputs": [
    {
     "name": "stdout",
     "output_type": "stream",
     "text": [
      "1000\n",
      "2000\n"
     ]
    }
   ],
   "source": [
    "salaries = [1000, 2000, 3000, 4000, 5000]\n",
    "\n",
    "for salary in salaries:\n",
    "    if salary == 3000:\n",
    "        break\n",
    "    print(salary)"
   ]
  },
  {
   "cell_type": "code",
   "execution_count": 164,
   "id": "234ac782-97cb-4b6b-8ebb-914c806b3d52",
   "metadata": {},
   "outputs": [
    {
     "name": "stdout",
     "output_type": "stream",
     "text": [
      "1000\n",
      "2000\n",
      "4000\n",
      "5000\n"
     ]
    }
   ],
   "source": [
    "salaries = [1000, 2000, 3000, 4000, 5000]\n",
    "\n",
    "for salary in salaries:\n",
    "    if salary == 3000:\n",
    "        continue\n",
    "    print(salary)"
   ]
  },
  {
   "cell_type": "code",
   "execution_count": 167,
   "id": "86f65519-aadb-4e32-aca5-704fe2ff02b4",
   "metadata": {},
   "outputs": [
    {
     "name": "stdout",
     "output_type": "stream",
     "text": [
      "1\n",
      "2\n",
      "3\n",
      "4\n"
     ]
    }
   ],
   "source": [
    "number = 1\n",
    "while number<5:\n",
    "    print(number)\n",
    "    number += 1"
   ]
  },
  {
   "cell_type": "markdown",
   "id": "4ad0d338-8261-4089-8017-32524e036d13",
   "metadata": {},
   "source": [
    "* **Enumerate:** Elemanları index ve value olarak ayırır."
   ]
  },
  {
   "cell_type": "code",
   "execution_count": 170,
   "id": "2eedd787-a67d-429f-8f1a-1edbfa72ea18",
   "metadata": {},
   "outputs": [
    {
     "name": "stdout",
     "output_type": "stream",
     "text": [
      "0 33\n",
      "1 44\n",
      "2 55\n",
      "3 66\n",
      "4 77\n"
     ]
    }
   ],
   "source": [
    "myList = [33, 44, 55, 66, 77]\n",
    "\n",
    "for index, value in enumerate(myList):\n",
    "    print(index, value)"
   ]
  },
  {
   "cell_type": "code",
   "execution_count": 171,
   "id": "e81ff25b-d937-48f8-8105-20202970ec29",
   "metadata": {},
   "outputs": [
    {
     "name": "stdout",
     "output_type": "stream",
     "text": [
      "[33, 44, 55, 66, 77]\n",
      "[33, 55, 77]\n"
     ]
    }
   ],
   "source": [
    "tekIndex = []\n",
    "ciftIndex = []\n",
    "for index, value in enumerate(myList):\n",
    "    if index % 2 == 0:\n",
    "        ciftIndex.append(value)\n",
    "    tekIndex.append(value)\n",
    "\n",
    "print(tekIndex)\n",
    "print(ciftIndex)"
   ]
  },
  {
   "cell_type": "markdown",
   "id": "89775cba-6f60-44d9-a85f-878afc3effe2",
   "metadata": {},
   "source": [
    "## Uygulama Mülakat Sorusu: Enumerate"
   ]
  },
  {
   "cell_type": "markdown",
   "id": "f527955a-6b8a-4064-930d-1e9e612067c8",
   "metadata": {},
   "source": [
    "* divide_students fonksiyonu yazınız. \n",
    "* Çift indexte yer alan öğrenciler bir listeye alınsın. \n",
    "* Tek indexte yer alan öğrenciler başka bir listeye alınsın. \n",
    "* Fakat bu iki liste tek bir liste olarak return olsun."
   ]
  },
  {
   "cell_type": "code",
   "execution_count": 174,
   "id": "4bc208bc-640f-454c-82be-141d44971873",
   "metadata": {},
   "outputs": [
    {
     "name": "stdout",
     "output_type": "stream",
     "text": [
      "['John', 'Venessa']\n",
      "['Mark', 'Mariam']\n"
     ]
    }
   ],
   "source": [
    "students = [\"John\", \"Mark\", \"Venessa\", \"Mariam\"]\n",
    "\n",
    "\n",
    "def divide_students(myList):\n",
    "    groups = [[], []]\n",
    "    for index, value in enumerate(myList):\n",
    "        if index % 2 == 0:\n",
    "            groups[0].append(value)\n",
    "        else:\n",
    "            groups[1].append(value)\n",
    "    return groups\n",
    "\n",
    "results = divide_students(students)\n",
    "for i in results:\n",
    "    print(i)"
   ]
  },
  {
   "cell_type": "markdown",
   "id": "1cd21e1b-6865-4cd1-a028-5cc92f5c45bc",
   "metadata": {},
   "source": [
    "## Zip Kullanımı"
   ]
  },
  {
   "cell_type": "markdown",
   "id": "3fed4c0a-6127-4281-956f-6468946d438f",
   "metadata": {},
   "source": [
    "* Farklı listelerin bir araya getirilmesini sağlar. Aynı indexleri eşler."
   ]
  },
  {
   "cell_type": "code",
   "execution_count": 175,
   "id": "088bf417-249e-41f3-be5a-6cfd722eb348",
   "metadata": {},
   "outputs": [
    {
     "data": {
      "text/plain": [
       "[('John', 'mathematics', 23),\n",
       " ('Mark', 'statistics', 30),\n",
       " ('Venessa', 'physics', 26),\n",
       " ('Mariam', 'astronomy', 22)]"
      ]
     },
     "execution_count": 175,
     "metadata": {},
     "output_type": "execute_result"
    }
   ],
   "source": [
    "students = [\"John\", \"Mark\", \"Venessa\", \"Mariam\"]\n",
    "departments = [\"mathematics\", \"statistics\", \"physics\", \"astronomy\"]\n",
    "ages = [23, 30, 26, 22]\n",
    "\n",
    "list(zip(students, departments, ages))"
   ]
  },
  {
   "cell_type": "markdown",
   "id": "eb18c1f3-843c-4842-90d5-800de3631710",
   "metadata": {},
   "source": [
    "## Lambda | Map | Filter | Reduce Fonksiyonları"
   ]
  },
  {
   "cell_type": "markdown",
   "id": "6bdd4439-82fb-4d39-af1b-29cb1523147d",
   "metadata": {},
   "source": [
    "* **Lambda:** Seri fonksiyon tanımlamaya yarar."
   ]
  },
  {
   "cell_type": "code",
   "execution_count": 176,
   "id": "18644eb1-5c6e-49f8-801b-fcbf679fcaf6",
   "metadata": {},
   "outputs": [
    {
     "data": {
      "text/plain": [
       "5"
      ]
     },
     "execution_count": 176,
     "metadata": {},
     "output_type": "execute_result"
    }
   ],
   "source": [
    "new_sum = lambda a, b: a + b\n",
    "new_sum(2,3)"
   ]
  },
  {
   "cell_type": "markdown",
   "id": "d8001dab-acc5-4fcf-b629-60e35b4b5239",
   "metadata": {},
   "source": [
    "* **Map:** Döngü yazmaktan kurtarır. Elemanları tek tek gezerek işlem yapma kolaylığı sağlar. Verilen fonksiyonu tüm elemanlara uygular."
   ]
  },
  {
   "cell_type": "code",
   "execution_count": 177,
   "id": "e572d8fc-c5b4-4eab-8ac5-a45f6df2fe9f",
   "metadata": {},
   "outputs": [
    {
     "data": {
      "text/plain": [
       "[1333.2, 2666.4, 3999.6, 5332.8]"
      ]
     },
     "execution_count": 177,
     "metadata": {},
     "output_type": "execute_result"
    }
   ],
   "source": [
    "salaries = [1111, 2222, 3333, 4444]\n",
    "\n",
    "def new_salary(x):\n",
    "    return x * 20/100 + x\n",
    "list(map(new_salary, salaries))"
   ]
  },
  {
   "cell_type": "code",
   "execution_count": 181,
   "id": "c588f218-ffe4-4e59-97e7-fb76b00f1cf1",
   "metadata": {},
   "outputs": [
    {
     "data": {
      "text/plain": [
       "[1333.2, 2666.4, 3999.6, 5332.8]"
      ]
     },
     "execution_count": 181,
     "metadata": {},
     "output_type": "execute_result"
    }
   ],
   "source": [
    "# Lambda ile seri fonksiyon oluşturup map ile kullanabiliriz.\n",
    "\n",
    "list(map(lambda x: x*20/100+x, salaries))"
   ]
  },
  {
   "cell_type": "markdown",
   "id": "95b0975c-0881-4658-95ab-a99cc18eb21a",
   "metadata": {},
   "source": [
    "* **Filter:** Filtreleme işlemleri için kullanılır. Bir koşul ile kullanılmalı."
   ]
  },
  {
   "cell_type": "code",
   "execution_count": 182,
   "id": "081b708b-177f-4d57-a466-a652ae61904d",
   "metadata": {},
   "outputs": [
    {
     "data": {
      "text/plain": [
       "[2, 4, 6, 8]"
      ]
     },
     "execution_count": 182,
     "metadata": {},
     "output_type": "execute_result"
    }
   ],
   "source": [
    "myList = [1, 2, 3, 4, 5, 6, 7, 8]\n",
    "list(filter(lambda x: x%2 == 0, myList))"
   ]
  },
  {
   "cell_type": "code",
   "execution_count": 184,
   "id": "4fdd4259-537c-4807-96ab-1864f6e051f0",
   "metadata": {},
   "outputs": [
    {
     "data": {
      "text/plain": [
       "[1, 2, 3, 4, 5, 6, 7, 8]"
      ]
     },
     "execution_count": 184,
     "metadata": {},
     "output_type": "execute_result"
    }
   ],
   "source": [
    "# KOŞUL OLMADAN ÇALIŞMAZ.\n",
    "\n",
    "myList = [1, 2, 3, 4, 5, 6, 7, 8]\n",
    "list(filter(lambda x: x+2, myList)) "
   ]
  },
  {
   "cell_type": "markdown",
   "id": "5b92a220-5808-4bf2-b786-a374749643f4",
   "metadata": {},
   "source": [
    "* **Reduce:**"
   ]
  },
  {
   "cell_type": "code",
   "execution_count": 189,
   "id": "ffae346c-9ceb-4c75-88b2-071d3be8d360",
   "metadata": {},
   "outputs": [
    {
     "data": {
      "text/plain": [
       "10"
      ]
     },
     "execution_count": 189,
     "metadata": {},
     "output_type": "execute_result"
    }
   ],
   "source": [
    "from functools import reduce\n",
    "\n",
    "myList = [1, 2, 3, 4]\n",
    "reduce(lambda a, b: a + b, myList)"
   ]
  },
  {
   "cell_type": "markdown",
   "id": "035e3287-94fe-47e9-b3d2-24a3de6ff74a",
   "metadata": {},
   "source": [
    "# Comprehensions"
   ]
  },
  {
   "cell_type": "markdown",
   "id": "107a910e-63fb-4c0e-82ac-aad23418c5c6",
   "metadata": {},
   "source": [
    "* Tek satırda birçok işlemi yapmamıza olanak tanırlar."
   ]
  },
  {
   "cell_type": "markdown",
   "id": "dae4506f-e48d-41c8-b5a4-484d4885c300",
   "metadata": {},
   "source": [
    "## List Comprehension"
   ]
  },
  {
   "cell_type": "code",
   "execution_count": 191,
   "id": "f8d6c4af-e46a-4ce5-bf09-d5556e028800",
   "metadata": {},
   "outputs": [
    {
     "data": {
      "text/plain": [
       "[1333.2, 2666.4, 3999.6, 5332.8]"
      ]
     },
     "execution_count": 191,
     "metadata": {},
     "output_type": "execute_result"
    }
   ],
   "source": [
    "salaries = [1111, 2222, 3333, 4444]\n",
    "salaries = [i*20/100+i for i in salaries] # maaşlara %20 zam yapar.\n",
    "salaries"
   ]
  },
  {
   "cell_type": "code",
   "execution_count": 195,
   "id": "7e37b2a8-459c-4aa6-878c-b6a33e34bdfe",
   "metadata": {},
   "outputs": [
    {
     "data": {
      "text/plain": [
       "[2666.4, 5332.8, 3999.6, 5332.8]"
      ]
     },
     "execution_count": 195,
     "metadata": {},
     "output_type": "execute_result"
    }
   ],
   "source": [
    "salaries = [1111, 2222, 3333, 4444]\n",
    "\n",
    "def new_salary(x):\n",
    "    return x * 20/100 + x\n",
    "\n",
    "[new_salary(i*2) if i < 3000 else new_salary(i) for i in salaries]"
   ]
  },
  {
   "cell_type": "code",
   "execution_count": 196,
   "id": "0bdad23e-0545-4b4e-becf-712c7d68c22e",
   "metadata": {},
   "outputs": [
    {
     "data": {
      "text/plain": [
       "['john', 'MARK', 'venessa', 'MARIAM']"
      ]
     },
     "execution_count": 196,
     "metadata": {},
     "output_type": "execute_result"
    }
   ],
   "source": [
    "students = [\"John\", \"Mark\", \"Venessa\", \"Mariam\"]\n",
    "students_no = [\"John\", \"Venessa\"]\n",
    "\n",
    "[i.lower() if i in students_no else i.upper() for i in students]"
   ]
  },
  {
   "cell_type": "markdown",
   "id": "f63a1a5b-318d-42dc-abcf-f76d098eb7bb",
   "metadata": {},
   "source": [
    "## Dict Comprehension"
   ]
  },
  {
   "cell_type": "code",
   "execution_count": 198,
   "id": "f723e2a3-b1a3-46e3-8b81-4a5eaf0a6620",
   "metadata": {},
   "outputs": [
    {
     "data": {
      "text/plain": [
       "{'a': 1, 'b': 4, 'c': 9, 'd': 16}"
      ]
     },
     "execution_count": 198,
     "metadata": {},
     "output_type": "execute_result"
    }
   ],
   "source": [
    "myDict = {\"a\":1,\n",
    "         \"b\":2,\n",
    "         \"c\":3,\n",
    "         \"d\":4}\n",
    "{k: v ** 2 for k,v in myDict.items()}"
   ]
  },
  {
   "cell_type": "markdown",
   "id": "efb88969-3fad-494b-82e7-895c064fb959",
   "metadata": {},
   "source": [
    "## Uygulama - Mülakat Sorusu : Dict Comprehension"
   ]
  },
  {
   "cell_type": "markdown",
   "id": "0a7caebc-3918-4420-8e2c-b9e2bb057178",
   "metadata": {},
   "source": [
    "* **AMAÇ:**  \n",
    "\n",
    "Çift sayıların karesini alıp bir sözlüğe eklemek."
   ]
  },
  {
   "cell_type": "code",
   "execution_count": 200,
   "id": "8b6334df-f3a6-4491-8cad-3785d0fd06ea",
   "metadata": {},
   "outputs": [
    {
     "data": {
      "text/plain": [
       "{0: 0, 2: 4, 4: 16, 6: 36, 8: 64}"
      ]
     },
     "execution_count": 200,
     "metadata": {},
     "output_type": "execute_result"
    }
   ],
   "source": [
    "new_dict={}\n",
    "numbers=range(10)\n",
    "\n",
    "{i: i**2 for i in numbers if i%2 == 0}"
   ]
  },
  {
   "cell_type": "markdown",
   "id": "b40c5dc9-8bbd-423e-b488-9ed5e0d05258",
   "metadata": {},
   "source": [
    "## List & Dict Comprehension Uygulamaları - 1"
   ]
  },
  {
   "cell_type": "markdown",
   "id": "854e8b72-db3d-4326-9e63-2b79b06b3baa",
   "metadata": {},
   "source": [
    "* Bir veri setindeki değişkenlerin isimlerini değiştirmek"
   ]
  },
  {
   "cell_type": "code",
   "execution_count": 201,
   "id": "7e7006cf-aa60-4606-8122-f1d2e67eef87",
   "metadata": {},
   "outputs": [
    {
     "data": {
      "text/plain": [
       "Index(['total', 'speeding', 'alcohol', 'not_distracted', 'no_previous',\n",
       "       'ins_premium', 'ins_losses', 'abbrev'],\n",
       "      dtype='object')"
      ]
     },
     "execution_count": 201,
     "metadata": {},
     "output_type": "execute_result"
    }
   ],
   "source": [
    "import seaborn as sns\n",
    "df = sns.load_dataset(\"car_crashes\")\n",
    "df.columns"
   ]
  },
  {
   "cell_type": "code",
   "execution_count": 204,
   "id": "c44049b6-aec9-460f-bbf7-fc10394395a5",
   "metadata": {},
   "outputs": [
    {
     "data": {
      "text/html": [
       "<div>\n",
       "<style scoped>\n",
       "    .dataframe tbody tr th:only-of-type {\n",
       "        vertical-align: middle;\n",
       "    }\n",
       "\n",
       "    .dataframe tbody tr th {\n",
       "        vertical-align: top;\n",
       "    }\n",
       "\n",
       "    .dataframe thead th {\n",
       "        text-align: right;\n",
       "    }\n",
       "</style>\n",
       "<table border=\"1\" class=\"dataframe\">\n",
       "  <thead>\n",
       "    <tr style=\"text-align: right;\">\n",
       "      <th></th>\n",
       "      <th>TOTAL</th>\n",
       "      <th>SPEEDING</th>\n",
       "      <th>ALCOHOL</th>\n",
       "      <th>NOT_DISTRACTED</th>\n",
       "      <th>NO_PREVIOUS</th>\n",
       "      <th>INS_PREMIUM</th>\n",
       "      <th>INS_LOSSES</th>\n",
       "      <th>ABBREV</th>\n",
       "    </tr>\n",
       "  </thead>\n",
       "  <tbody>\n",
       "    <tr>\n",
       "      <th>0</th>\n",
       "      <td>18.8</td>\n",
       "      <td>7.332</td>\n",
       "      <td>5.640</td>\n",
       "      <td>18.048</td>\n",
       "      <td>15.040</td>\n",
       "      <td>784.55</td>\n",
       "      <td>145.08</td>\n",
       "      <td>AL</td>\n",
       "    </tr>\n",
       "    <tr>\n",
       "      <th>1</th>\n",
       "      <td>18.1</td>\n",
       "      <td>7.421</td>\n",
       "      <td>4.525</td>\n",
       "      <td>16.290</td>\n",
       "      <td>17.014</td>\n",
       "      <td>1053.48</td>\n",
       "      <td>133.93</td>\n",
       "      <td>AK</td>\n",
       "    </tr>\n",
       "    <tr>\n",
       "      <th>2</th>\n",
       "      <td>18.6</td>\n",
       "      <td>6.510</td>\n",
       "      <td>5.208</td>\n",
       "      <td>15.624</td>\n",
       "      <td>17.856</td>\n",
       "      <td>899.47</td>\n",
       "      <td>110.35</td>\n",
       "      <td>AZ</td>\n",
       "    </tr>\n",
       "    <tr>\n",
       "      <th>3</th>\n",
       "      <td>22.4</td>\n",
       "      <td>4.032</td>\n",
       "      <td>5.824</td>\n",
       "      <td>21.056</td>\n",
       "      <td>21.280</td>\n",
       "      <td>827.34</td>\n",
       "      <td>142.39</td>\n",
       "      <td>AR</td>\n",
       "    </tr>\n",
       "    <tr>\n",
       "      <th>4</th>\n",
       "      <td>12.0</td>\n",
       "      <td>4.200</td>\n",
       "      <td>3.360</td>\n",
       "      <td>10.920</td>\n",
       "      <td>10.680</td>\n",
       "      <td>878.41</td>\n",
       "      <td>165.63</td>\n",
       "      <td>CA</td>\n",
       "    </tr>\n",
       "  </tbody>\n",
       "</table>\n",
       "</div>"
      ],
      "text/plain": [
       "   TOTAL  SPEEDING  ALCOHOL  NOT_DISTRACTED  NO_PREVIOUS  INS_PREMIUM  \\\n",
       "0   18.8     7.332    5.640          18.048       15.040       784.55   \n",
       "1   18.1     7.421    4.525          16.290       17.014      1053.48   \n",
       "2   18.6     6.510    5.208          15.624       17.856       899.47   \n",
       "3   22.4     4.032    5.824          21.056       21.280       827.34   \n",
       "4   12.0     4.200    3.360          10.920       10.680       878.41   \n",
       "\n",
       "   INS_LOSSES ABBREV  \n",
       "0      145.08     AL  \n",
       "1      133.93     AK  \n",
       "2      110.35     AZ  \n",
       "3      142.39     AR  \n",
       "4      165.63     CA  "
      ]
     },
     "execution_count": 204,
     "metadata": {},
     "output_type": "execute_result"
    }
   ],
   "source": [
    "df.columns = [i.upper() for i in df.columns] # Her kolonu büyük harf yaptık.\n",
    "df.head()"
   ]
  },
  {
   "cell_type": "markdown",
   "id": "f47e9fcd-ef01-4e6b-80c1-b94d80cb2fd9",
   "metadata": {},
   "source": [
    "## List & Dict Comprehension Uygulamaları - 2"
   ]
  },
  {
   "cell_type": "markdown",
   "id": "134c4336-2e54-4717-9893-8253607be34f",
   "metadata": {},
   "source": [
    "* İsminde \"INS\" olan değişkenlerin başına FLAG diğerlerine NO_fLAG eklemek istiyoruz."
   ]
  },
  {
   "cell_type": "code",
   "execution_count": 205,
   "id": "53a59c7b-012d-413d-982f-bf34361e2223",
   "metadata": {},
   "outputs": [
    {
     "data": {
      "text/plain": [
       "Index(['NO_FLAGTOTAL', 'NO_FLAGSPEEDING', 'NO_FLAGALCOHOL',\n",
       "       'NO_FLAGNOT_DISTRACTED', 'NO_FLAGNO_PREVIOUS', 'FLAGINS_PREMIUM',\n",
       "       'FLAGINS_LOSSES', 'NO_FLAGABBREV'],\n",
       "      dtype='object')"
      ]
     },
     "execution_count": 205,
     "metadata": {},
     "output_type": "execute_result"
    }
   ],
   "source": [
    "df.columns = [\"FLAG\" + i if \"INS\" in i else \"NO_FLAG\" + i for i in df.columns]\n",
    "df.columns"
   ]
  },
  {
   "cell_type": "code",
   "execution_count": 206,
   "id": "1d7292c6-3d0f-4397-8523-9c2511ada11a",
   "metadata": {},
   "outputs": [
    {
     "data": {
      "text/html": [
       "<div>\n",
       "<style scoped>\n",
       "    .dataframe tbody tr th:only-of-type {\n",
       "        vertical-align: middle;\n",
       "    }\n",
       "\n",
       "    .dataframe tbody tr th {\n",
       "        vertical-align: top;\n",
       "    }\n",
       "\n",
       "    .dataframe thead th {\n",
       "        text-align: right;\n",
       "    }\n",
       "</style>\n",
       "<table border=\"1\" class=\"dataframe\">\n",
       "  <thead>\n",
       "    <tr style=\"text-align: right;\">\n",
       "      <th></th>\n",
       "      <th>NO_FLAGTOTAL</th>\n",
       "      <th>NO_FLAGSPEEDING</th>\n",
       "      <th>NO_FLAGALCOHOL</th>\n",
       "      <th>NO_FLAGNOT_DISTRACTED</th>\n",
       "      <th>NO_FLAGNO_PREVIOUS</th>\n",
       "      <th>FLAGINS_PREMIUM</th>\n",
       "      <th>FLAGINS_LOSSES</th>\n",
       "      <th>NO_FLAGABBREV</th>\n",
       "    </tr>\n",
       "  </thead>\n",
       "  <tbody>\n",
       "    <tr>\n",
       "      <th>0</th>\n",
       "      <td>18.8</td>\n",
       "      <td>7.332</td>\n",
       "      <td>5.640</td>\n",
       "      <td>18.048</td>\n",
       "      <td>15.040</td>\n",
       "      <td>784.55</td>\n",
       "      <td>145.08</td>\n",
       "      <td>AL</td>\n",
       "    </tr>\n",
       "    <tr>\n",
       "      <th>1</th>\n",
       "      <td>18.1</td>\n",
       "      <td>7.421</td>\n",
       "      <td>4.525</td>\n",
       "      <td>16.290</td>\n",
       "      <td>17.014</td>\n",
       "      <td>1053.48</td>\n",
       "      <td>133.93</td>\n",
       "      <td>AK</td>\n",
       "    </tr>\n",
       "    <tr>\n",
       "      <th>2</th>\n",
       "      <td>18.6</td>\n",
       "      <td>6.510</td>\n",
       "      <td>5.208</td>\n",
       "      <td>15.624</td>\n",
       "      <td>17.856</td>\n",
       "      <td>899.47</td>\n",
       "      <td>110.35</td>\n",
       "      <td>AZ</td>\n",
       "    </tr>\n",
       "    <tr>\n",
       "      <th>3</th>\n",
       "      <td>22.4</td>\n",
       "      <td>4.032</td>\n",
       "      <td>5.824</td>\n",
       "      <td>21.056</td>\n",
       "      <td>21.280</td>\n",
       "      <td>827.34</td>\n",
       "      <td>142.39</td>\n",
       "      <td>AR</td>\n",
       "    </tr>\n",
       "    <tr>\n",
       "      <th>4</th>\n",
       "      <td>12.0</td>\n",
       "      <td>4.200</td>\n",
       "      <td>3.360</td>\n",
       "      <td>10.920</td>\n",
       "      <td>10.680</td>\n",
       "      <td>878.41</td>\n",
       "      <td>165.63</td>\n",
       "      <td>CA</td>\n",
       "    </tr>\n",
       "  </tbody>\n",
       "</table>\n",
       "</div>"
      ],
      "text/plain": [
       "   NO_FLAGTOTAL  NO_FLAGSPEEDING  NO_FLAGALCOHOL  NO_FLAGNOT_DISTRACTED  \\\n",
       "0          18.8            7.332           5.640                 18.048   \n",
       "1          18.1            7.421           4.525                 16.290   \n",
       "2          18.6            6.510           5.208                 15.624   \n",
       "3          22.4            4.032           5.824                 21.056   \n",
       "4          12.0            4.200           3.360                 10.920   \n",
       "\n",
       "   NO_FLAGNO_PREVIOUS  FLAGINS_PREMIUM  FLAGINS_LOSSES NO_FLAGABBREV  \n",
       "0              15.040           784.55          145.08            AL  \n",
       "1              17.014          1053.48          133.93            AK  \n",
       "2              17.856           899.47          110.35            AZ  \n",
       "3              21.280           827.34          142.39            AR  \n",
       "4              10.680           878.41          165.63            CA  "
      ]
     },
     "execution_count": 206,
     "metadata": {},
     "output_type": "execute_result"
    }
   ],
   "source": [
    "df.head()"
   ]
  },
  {
   "cell_type": "markdown",
   "id": "d28ee689-172a-4888-8a81-d820aacd7090",
   "metadata": {},
   "source": [
    "## List & Dict Comprehension Uygulamaları - 3"
   ]
  },
  {
   "cell_type": "markdown",
   "id": "668def11-e4e7-40b3-b1b8-3594a9eb10c6",
   "metadata": {},
   "source": [
    "{\"total\": [\"mean\", \"min\", \"max\", \"var\"],  \n",
    "\"speeding\":[\"mean\", \"min\", \"max\", \"var\"],  \n",
    "\"alcohol\":[\"mean\", \"min\", \"max\", \"var\"],  \n",
    "\"not_distracted\":[\"mean\", \"min\", \"max\", \"var\"],  \n",
    "\"no_previous\":[\"mean\", \"min\", \"max\", \"var\"],  \n",
    "\"ins_premium\":[\"mean\", \"min\", \"max\", \"var\"],  \n",
    "\"ins_losses\":[\"mean\", \"min\", \"max\", \"var\"]}  "
   ]
  },
  {
   "cell_type": "code",
   "execution_count": 207,
   "id": "0cd5c8a3-9943-4412-86ed-70e1c5a41c55",
   "metadata": {},
   "outputs": [
    {
     "data": {
      "text/plain": [
       "Index(['total', 'speeding', 'alcohol', 'not_distracted', 'no_previous',\n",
       "       'ins_premium', 'ins_losses', 'abbrev'],\n",
       "      dtype='object')"
      ]
     },
     "execution_count": 207,
     "metadata": {},
     "output_type": "execute_result"
    }
   ],
   "source": [
    "import seaborn as sns\n",
    "df = sns.load_dataset(\"car_crashes\")\n",
    "df.columns"
   ]
  },
  {
   "cell_type": "code",
   "execution_count": 216,
   "id": "1f173a00-066b-4777-891d-6d0c0580a6a1",
   "metadata": {},
   "outputs": [],
   "source": [
    "num_cols = [col for col in df.columns if df[col].dtype != \"O\"]\n",
    "soz = {}\n",
    "agg_list = [\"mean\", \"min\", \"max\", \"sum\"]\n",
    "\n",
    "new_dict = {i: agg_list for i in num_cols}"
   ]
  },
  {
   "cell_type": "code",
   "execution_count": 217,
   "id": "16bd3833-acc6-4b72-a6e7-cc18bc821290",
   "metadata": {},
   "outputs": [
    {
     "data": {
      "text/html": [
       "<div>\n",
       "<style scoped>\n",
       "    .dataframe tbody tr th:only-of-type {\n",
       "        vertical-align: middle;\n",
       "    }\n",
       "\n",
       "    .dataframe tbody tr th {\n",
       "        vertical-align: top;\n",
       "    }\n",
       "\n",
       "    .dataframe thead th {\n",
       "        text-align: right;\n",
       "    }\n",
       "</style>\n",
       "<table border=\"1\" class=\"dataframe\">\n",
       "  <thead>\n",
       "    <tr style=\"text-align: right;\">\n",
       "      <th></th>\n",
       "      <th>total</th>\n",
       "      <th>speeding</th>\n",
       "      <th>alcohol</th>\n",
       "      <th>not_distracted</th>\n",
       "      <th>no_previous</th>\n",
       "      <th>ins_premium</th>\n",
       "      <th>ins_losses</th>\n",
       "    </tr>\n",
       "  </thead>\n",
       "  <tbody>\n",
       "    <tr>\n",
       "      <th>mean</th>\n",
       "      <td>15.790196</td>\n",
       "      <td>4.998196</td>\n",
       "      <td>4.886784</td>\n",
       "      <td>13.573176</td>\n",
       "      <td>14.004882</td>\n",
       "      <td>886.957647</td>\n",
       "      <td>134.493137</td>\n",
       "    </tr>\n",
       "    <tr>\n",
       "      <th>min</th>\n",
       "      <td>5.900000</td>\n",
       "      <td>1.792000</td>\n",
       "      <td>1.593000</td>\n",
       "      <td>1.760000</td>\n",
       "      <td>5.900000</td>\n",
       "      <td>641.960000</td>\n",
       "      <td>82.750000</td>\n",
       "    </tr>\n",
       "    <tr>\n",
       "      <th>max</th>\n",
       "      <td>23.900000</td>\n",
       "      <td>9.450000</td>\n",
       "      <td>10.038000</td>\n",
       "      <td>23.661000</td>\n",
       "      <td>21.280000</td>\n",
       "      <td>1301.520000</td>\n",
       "      <td>194.780000</td>\n",
       "    </tr>\n",
       "    <tr>\n",
       "      <th>sum</th>\n",
       "      <td>805.300000</td>\n",
       "      <td>254.908000</td>\n",
       "      <td>249.226000</td>\n",
       "      <td>692.232000</td>\n",
       "      <td>714.249000</td>\n",
       "      <td>45234.840000</td>\n",
       "      <td>6859.150000</td>\n",
       "    </tr>\n",
       "  </tbody>\n",
       "</table>\n",
       "</div>"
      ],
      "text/plain": [
       "           total    speeding     alcohol  not_distracted  no_previous  \\\n",
       "mean   15.790196    4.998196    4.886784       13.573176    14.004882   \n",
       "min     5.900000    1.792000    1.593000        1.760000     5.900000   \n",
       "max    23.900000    9.450000   10.038000       23.661000    21.280000   \n",
       "sum   805.300000  254.908000  249.226000      692.232000   714.249000   \n",
       "\n",
       "       ins_premium   ins_losses  \n",
       "mean    886.957647   134.493137  \n",
       "min     641.960000    82.750000  \n",
       "max    1301.520000   194.780000  \n",
       "sum   45234.840000  6859.150000  "
      ]
     },
     "execution_count": 217,
     "metadata": {},
     "output_type": "execute_result"
    }
   ],
   "source": [
    "# HARİKA YÖNTEM\n",
    "\n",
    "df[num_cols].agg(new_dict)"
   ]
  }
 ],
 "metadata": {
  "kernelspec": {
   "display_name": "Python 3 (ipykernel)",
   "language": "python",
   "name": "python3"
  },
  "language_info": {
   "codemirror_mode": {
    "name": "ipython",
    "version": 3
   },
   "file_extension": ".py",
   "mimetype": "text/x-python",
   "name": "python",
   "nbconvert_exporter": "python",
   "pygments_lexer": "ipython3",
   "version": "3.9.7"
  },
  "toc-autonumbering": true
 },
 "nbformat": 4,
 "nbformat_minor": 5
}
