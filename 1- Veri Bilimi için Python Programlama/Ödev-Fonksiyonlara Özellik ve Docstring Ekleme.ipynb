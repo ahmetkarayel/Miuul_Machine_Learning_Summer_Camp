{
 "cells": [
  {
   "cell_type": "markdown",
   "id": "d3cbc1ff-5b4c-4932-a08f-97d18d99cc48",
   "metadata": {},
   "source": [
    "# Fonksiyonlara Özellik Eklemek"
   ]
  },
  {
   "cell_type": "markdown",
   "id": "5ecd3dd6-873a-4684-8a14-a8acb4da9c02",
   "metadata": {},
   "source": [
    "* **Görev:** \"cat_summary()\" fonksiyonuna 1 özellik ekleyiniz. Bu özellik argümanla biçimlendirilebilir olsun. Var olan özelliği de argümanla kontrol edilebilir hale getirebilirsiniz. "
   ]
  },
  {
   "cell_type": "code",
   "execution_count": null,
   "id": "2b4cc0df-6440-43c9-88af-351c728ecaad",
   "metadata": {},
   "outputs": [],
   "source": [
    "def cat_summary(dataframe, col_name, target, swarm=False):\n",
    "    print(pd.DataFrame({col_name: dataframe[col_name].value_counts(),\n",
    "                       \"Ratio\":100*dataframe[col_name].value_counts() / len(dataframe)}))\n",
    "    print(\"##################################\")\n",
    "    \n",
    "    if swarm:\n",
    "        sns.swarmplot(x=col_name, y = dataframe[target], data=dataframe)\n",
    "        plt.show(block=True) # Birden fazla döngüye girip grafik oluşturacağımız için yazdık.\n",
    "        \n",
    "for col in cat_cols:\n",
    "    if data[col].dtypes == \"bool\":\n",
    "        print(col)\n",
    "    else:\n",
    "        cat_summary(data, col, target, True)"
   ]
  },
  {
   "cell_type": "markdown",
   "id": "9f7d49de-65ee-4edd-9116-0170b303417f",
   "metadata": {},
   "source": [
    "# Docstring Yazımı"
   ]
  },
  {
   "cell_type": "markdown",
   "id": "53870172-03cc-4b6d-96c7-19da48d49b9d",
   "metadata": {},
   "source": [
    "* **Görev:** \"check_df()\", \"cat_summary()\" fonksiyonlarına 4 bilgi (uygunsa) barındıran numpy tarzı docstring yazınız. (task, params, return, example)"
   ]
  },
  {
   "cell_type": "code",
   "execution_count": null,
   "id": "1c3d4355-4217-4135-9c32-fdd5381f4cec",
   "metadata": {},
   "outputs": [],
   "source": [
    "def check_df(dataframe, head=5):\n",
    "    \"\"\"\n",
    "    Veri setindeki değişkenler hakkında genel bilgileri verir.\n",
    "    \n",
    "    Parameters\n",
    "    ----------\n",
    "    dataframe: dataframe\n",
    "        genel bilgilerini alacağımız dataframe'dir.\n",
    "    head: int, float\n",
    "        dataframe içerisinden ekrana getirilecek değişken sayısı\n",
    "\n",
    "    \n",
    "    Returns\n",
    "    -------\n",
    "    dataframe.shape\n",
    "            dataframe'in boyut sayısı\n",
    "    dataframe.dtypes\n",
    "            dataframe içerisindeki değişkenlerin tipleri\n",
    "    dataframe.head(head)\n",
    "            dataframe içerisinden ilk head kadar satır\n",
    "    dataframe.tail(head)\n",
    "            dataframe içerisinden son head kadar satır\n",
    "    dataframe.isnull().sum()\n",
    "            dataframe içerisindeki değişkenlere ait eksik değer sayıları\n",
    "    dataframe.describe([0, 0.05, 0.5, 0.95, 0.99, 1])\n",
    "            dataframe içerisindeki sayısal değişkenlerin belirli yüzdelerinin değerleri\n",
    "            \n",
    "    Notes\n",
    "    -----\n",
    "    \n",
    "    \"\"\"\n",
    "    \n",
    "    \n",
    "    print(\"############## Shape ##############\")\n",
    "    print(dataframe.shape)\n",
    "    \n",
    "    print(\"############## Types ##############\")\n",
    "    print(dataframe.dtypes)\n",
    "    \n",
    "    print(\"############## Head ##############\")\n",
    "    print(dataframe.head(head))\n",
    "    \n",
    "    print(\"############## Tail ##############\")\n",
    "    print(dataframe.tail(head))\n",
    "    \n",
    "    print(\"############## NA ##############\")\n",
    "    print(dataframe.isnull().sum())\n",
    "    \n",
    "    print(\"############## Quantiles ##############\")\n",
    "    print(dataframe.describe([0, 0.05, 0.5, 0.95, 0.99, 1]).T)"
   ]
  }
 ],
 "metadata": {
  "kernelspec": {
   "display_name": "Python 3 (ipykernel)",
   "language": "python",
   "name": "python3"
  },
  "language_info": {
   "codemirror_mode": {
    "name": "ipython",
    "version": 3
   },
   "file_extension": ".py",
   "mimetype": "text/x-python",
   "name": "python",
   "nbconvert_exporter": "python",
   "pygments_lexer": "ipython3",
   "version": "3.9.7"
  }
 },
 "nbformat": 4,
 "nbformat_minor": 5
}
