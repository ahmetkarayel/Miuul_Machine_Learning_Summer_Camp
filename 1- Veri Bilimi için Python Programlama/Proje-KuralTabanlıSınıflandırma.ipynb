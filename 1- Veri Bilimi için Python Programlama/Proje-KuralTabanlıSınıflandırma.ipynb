{
 "cells": [
  {
   "cell_type": "markdown",
   "id": "874e8504-71ab-4337-9646-94583035d64e",
   "metadata": {},
   "source": [
    "# Görev-1"
   ]
  },
  {
   "cell_type": "markdown",
   "id": "a7446ff5-4072-45da-a5c9-6bb2e49c64a1",
   "metadata": {},
   "source": [
    "* **Soru 1:** persona.csv dosyasını okutunuz ve veri seti ile ilgili genel bilgileri gösteriniz."
   ]
  },
  {
   "cell_type": "code",
   "execution_count": 73,
   "id": "0ae8e547-f4d4-4d25-92ac-603b94a1ce20",
   "metadata": {},
   "outputs": [],
   "source": [
    "import pandas as pd"
   ]
  },
  {
   "cell_type": "code",
   "execution_count": 74,
   "id": "7f382054-6d0b-454a-b77e-964a7cf9980e",
   "metadata": {},
   "outputs": [
    {
     "data": {
      "text/html": [
       "<div>\n",
       "<style scoped>\n",
       "    .dataframe tbody tr th:only-of-type {\n",
       "        vertical-align: middle;\n",
       "    }\n",
       "\n",
       "    .dataframe tbody tr th {\n",
       "        vertical-align: top;\n",
       "    }\n",
       "\n",
       "    .dataframe thead th {\n",
       "        text-align: right;\n",
       "    }\n",
       "</style>\n",
       "<table border=\"1\" class=\"dataframe\">\n",
       "  <thead>\n",
       "    <tr style=\"text-align: right;\">\n",
       "      <th></th>\n",
       "      <th>PRICE</th>\n",
       "      <th>SOURCE</th>\n",
       "      <th>SEX</th>\n",
       "      <th>COUNTRY</th>\n",
       "      <th>AGE</th>\n",
       "    </tr>\n",
       "  </thead>\n",
       "  <tbody>\n",
       "    <tr>\n",
       "      <th>0</th>\n",
       "      <td>39</td>\n",
       "      <td>android</td>\n",
       "      <td>male</td>\n",
       "      <td>bra</td>\n",
       "      <td>17</td>\n",
       "    </tr>\n",
       "    <tr>\n",
       "      <th>1</th>\n",
       "      <td>39</td>\n",
       "      <td>android</td>\n",
       "      <td>male</td>\n",
       "      <td>bra</td>\n",
       "      <td>17</td>\n",
       "    </tr>\n",
       "    <tr>\n",
       "      <th>2</th>\n",
       "      <td>49</td>\n",
       "      <td>android</td>\n",
       "      <td>male</td>\n",
       "      <td>bra</td>\n",
       "      <td>17</td>\n",
       "    </tr>\n",
       "    <tr>\n",
       "      <th>3</th>\n",
       "      <td>29</td>\n",
       "      <td>android</td>\n",
       "      <td>male</td>\n",
       "      <td>tur</td>\n",
       "      <td>17</td>\n",
       "    </tr>\n",
       "    <tr>\n",
       "      <th>4</th>\n",
       "      <td>49</td>\n",
       "      <td>android</td>\n",
       "      <td>male</td>\n",
       "      <td>tur</td>\n",
       "      <td>17</td>\n",
       "    </tr>\n",
       "  </tbody>\n",
       "</table>\n",
       "</div>"
      ],
      "text/plain": [
       "   PRICE   SOURCE   SEX COUNTRY  AGE\n",
       "0     39  android  male     bra   17\n",
       "1     39  android  male     bra   17\n",
       "2     49  android  male     bra   17\n",
       "3     29  android  male     tur   17\n",
       "4     49  android  male     tur   17"
      ]
     },
     "execution_count": 74,
     "metadata": {},
     "output_type": "execute_result"
    }
   ],
   "source": [
    "df = pd.read_csv(\"persona.csv\")\n",
    "df.head()"
   ]
  },
  {
   "cell_type": "code",
   "execution_count": 75,
   "id": "60385d93-7b01-42fe-956e-12fca1ccc364",
   "metadata": {},
   "outputs": [
    {
     "name": "stdout",
     "output_type": "stream",
     "text": [
      "<class 'pandas.core.frame.DataFrame'>\n",
      "Int64Index: 5000 entries, 0 to 4999\n",
      "Data columns (total 5 columns):\n",
      " #   Column   Non-Null Count  Dtype \n",
      "---  ------   --------------  ----- \n",
      " 0   PRICE    5000 non-null   int64 \n",
      " 1   SOURCE   5000 non-null   object\n",
      " 2   SEX      5000 non-null   object\n",
      " 3   COUNTRY  5000 non-null   object\n",
      " 4   AGE      5000 non-null   int64 \n",
      "dtypes: int64(2), object(3)\n",
      "memory usage: 234.4+ KB\n"
     ]
    }
   ],
   "source": [
    "df.info()"
   ]
  },
  {
   "cell_type": "markdown",
   "id": "e802c9dd-43d0-46fe-9378-d995d1bf36a5",
   "metadata": {},
   "source": [
    "* **Soru 2:** Kaç unique SOURCE vardır? Frekansları nedir?"
   ]
  },
  {
   "cell_type": "code",
   "execution_count": 76,
   "id": "f73740bd-5d0e-49aa-8493-fd2dea9ad4db",
   "metadata": {},
   "outputs": [
    {
     "data": {
      "text/plain": [
       "array(['android', 'ios'], dtype=object)"
      ]
     },
     "execution_count": 76,
     "metadata": {},
     "output_type": "execute_result"
    }
   ],
   "source": [
    "df.SOURCE.unique()"
   ]
  },
  {
   "cell_type": "code",
   "execution_count": 77,
   "id": "a5fbb64b-b890-4c84-bf61-8adb2c30c0d7",
   "metadata": {},
   "outputs": [
    {
     "data": {
      "text/plain": [
       "2"
      ]
     },
     "execution_count": 77,
     "metadata": {},
     "output_type": "execute_result"
    }
   ],
   "source": [
    "df.SOURCE.nunique()"
   ]
  },
  {
   "cell_type": "code",
   "execution_count": 78,
   "id": "24c95001-ff31-4598-a3f1-c2cff8f80b15",
   "metadata": {},
   "outputs": [
    {
     "data": {
      "text/plain": [
       "android    2974\n",
       "ios        2026\n",
       "Name: SOURCE, dtype: int64"
      ]
     },
     "execution_count": 78,
     "metadata": {},
     "output_type": "execute_result"
    }
   ],
   "source": [
    "df.SOURCE.value_counts()"
   ]
  },
  {
   "cell_type": "markdown",
   "id": "aee35e70-4c6d-49d4-99d1-7197c5526d93",
   "metadata": {},
   "source": [
    "* **Soru 3:** Kaç unique PRICE vardır?"
   ]
  },
  {
   "cell_type": "code",
   "execution_count": 79,
   "id": "b5e0b195-7d37-4754-9f91-0b8bb27e7215",
   "metadata": {},
   "outputs": [
    {
     "data": {
      "text/plain": [
       "array([39, 49, 29, 19, 59,  9], dtype=int64)"
      ]
     },
     "execution_count": 79,
     "metadata": {},
     "output_type": "execute_result"
    }
   ],
   "source": [
    "df.PRICE.unique()"
   ]
  },
  {
   "cell_type": "code",
   "execution_count": 80,
   "id": "14cb1aca-0e61-48de-93c6-034495c4ac1d",
   "metadata": {},
   "outputs": [
    {
     "data": {
      "text/plain": [
       "6"
      ]
     },
     "execution_count": 80,
     "metadata": {},
     "output_type": "execute_result"
    }
   ],
   "source": [
    "df.PRICE.nunique()"
   ]
  },
  {
   "cell_type": "markdown",
   "id": "723c0b2a-1854-4473-a6ce-9988216ab68a",
   "metadata": {},
   "source": [
    "* **Soru 4:** Hangi PRICE'dan kaçar tane satış gerçekleşmiş?"
   ]
  },
  {
   "cell_type": "code",
   "execution_count": 81,
   "id": "de59fe1a-f2e0-4e7b-8f73-5a9aefffb172",
   "metadata": {},
   "outputs": [
    {
     "data": {
      "text/plain": [
       "PRICE\n",
       "9      200\n",
       "19     992\n",
       "29    1305\n",
       "39    1260\n",
       "49    1031\n",
       "59     212\n",
       "Name: PRICE, dtype: int64"
      ]
     },
     "execution_count": 81,
     "metadata": {},
     "output_type": "execute_result"
    }
   ],
   "source": [
    "df.groupby(\"PRICE\").PRICE.count()"
   ]
  },
  {
   "cell_type": "markdown",
   "id": "64b2b65b-8e0a-4bbb-ae3e-4b63c76b72ab",
   "metadata": {},
   "source": [
    "* **Soru 5:** Hangi ülkeden kaçar tane satış olmuş?"
   ]
  },
  {
   "cell_type": "code",
   "execution_count": 82,
   "id": "c0c3ae11-2b07-4b35-95a6-9d5185d6ac6e",
   "metadata": {},
   "outputs": [
    {
     "data": {
      "text/plain": [
       "COUNTRY\n",
       "bra    1496\n",
       "can     230\n",
       "deu     455\n",
       "fra     303\n",
       "tur     451\n",
       "usa    2065\n",
       "Name: PRICE, dtype: int64"
      ]
     },
     "execution_count": 82,
     "metadata": {},
     "output_type": "execute_result"
    }
   ],
   "source": [
    "df.groupby(\"COUNTRY\").PRICE.count()"
   ]
  },
  {
   "cell_type": "markdown",
   "id": "e496e239-c072-43ed-839c-ca9e48118411",
   "metadata": {},
   "source": [
    "* **Soru 6:** Ülkelere göre satışlardan toplam ne kadar kazanılmış?"
   ]
  },
  {
   "cell_type": "code",
   "execution_count": 83,
   "id": "f23cd96b-2b70-4ed0-bff9-ceb0505df7aa",
   "metadata": {},
   "outputs": [
    {
     "data": {
      "text/plain": [
       "COUNTRY\n",
       "bra    51354\n",
       "can     7730\n",
       "deu    15485\n",
       "fra    10177\n",
       "tur    15689\n",
       "usa    70225\n",
       "Name: PRICE, dtype: int64"
      ]
     },
     "execution_count": 83,
     "metadata": {},
     "output_type": "execute_result"
    }
   ],
   "source": [
    "df.groupby(\"COUNTRY\").PRICE.sum()"
   ]
  },
  {
   "cell_type": "markdown",
   "id": "743fa032-6c6c-41c9-bea8-17e33053bab9",
   "metadata": {},
   "source": [
    "* **Soru 7:** SOURCE türlerine göre satış sayıları nedir?"
   ]
  },
  {
   "cell_type": "code",
   "execution_count": 84,
   "id": "c64479ab-d291-465b-a2c2-8283784c2107",
   "metadata": {},
   "outputs": [
    {
     "data": {
      "text/plain": [
       "SOURCE\n",
       "android    2974\n",
       "ios        2026\n",
       "Name: PRICE, dtype: int64"
      ]
     },
     "execution_count": 84,
     "metadata": {},
     "output_type": "execute_result"
    }
   ],
   "source": [
    "df.groupby(\"SOURCE\").PRICE.count()"
   ]
  },
  {
   "cell_type": "markdown",
   "id": "c8cdecd9-9295-4266-969d-9c29932f21b9",
   "metadata": {},
   "source": [
    "* **Soru 8:** Ülkelere göre PRICE ortalamaları nedir?"
   ]
  },
  {
   "cell_type": "code",
   "execution_count": 85,
   "id": "b127bccc-2b3d-4e3c-9156-fc6a638174dc",
   "metadata": {},
   "outputs": [
    {
     "data": {
      "text/plain": [
       "COUNTRY\n",
       "bra    34.327540\n",
       "can    33.608696\n",
       "deu    34.032967\n",
       "fra    33.587459\n",
       "tur    34.787140\n",
       "usa    34.007264\n",
       "Name: PRICE, dtype: float64"
      ]
     },
     "execution_count": 85,
     "metadata": {},
     "output_type": "execute_result"
    }
   ],
   "source": [
    "df.groupby(\"COUNTRY\").PRICE.mean()"
   ]
  },
  {
   "cell_type": "markdown",
   "id": "dffafe45-575d-495c-9994-005658852218",
   "metadata": {},
   "source": [
    "* **Soru 9:** SOURCE'lara göre PRICE ortalamaları nedir?"
   ]
  },
  {
   "cell_type": "code",
   "execution_count": 86,
   "id": "594c5f55-67cb-422b-b0b3-a1567e5b7358",
   "metadata": {},
   "outputs": [
    {
     "data": {
      "text/plain": [
       "SOURCE\n",
       "android    34.174849\n",
       "ios        34.069102\n",
       "Name: PRICE, dtype: float64"
      ]
     },
     "execution_count": 86,
     "metadata": {},
     "output_type": "execute_result"
    }
   ],
   "source": [
    "df.groupby(\"SOURCE\").PRICE.mean()"
   ]
  },
  {
   "cell_type": "markdown",
   "id": "46aedf80-0c3f-4162-8282-32f9d3fb9e1f",
   "metadata": {},
   "source": [
    "* **Soru 10:** COUNTRY-SOURCE kırılımında PRICE ortalamaları nedir?"
   ]
  },
  {
   "cell_type": "code",
   "execution_count": 87,
   "id": "1af03cfe-ab84-4019-b86a-1870d84f1272",
   "metadata": {},
   "outputs": [
    {
     "data": {
      "text/plain": [
       "COUNTRY  SOURCE \n",
       "bra      android    34.387029\n",
       "         ios        34.222222\n",
       "can      android    33.330709\n",
       "         ios        33.951456\n",
       "deu      android    33.869888\n",
       "         ios        34.268817\n",
       "fra      android    34.312500\n",
       "         ios        32.776224\n",
       "tur      android    36.229437\n",
       "         ios        33.272727\n",
       "usa      android    33.760357\n",
       "         ios        34.371703\n",
       "Name: PRICE, dtype: float64"
      ]
     },
     "execution_count": 87,
     "metadata": {},
     "output_type": "execute_result"
    }
   ],
   "source": [
    "df.groupby([\"COUNTRY\", \"SOURCE\"]).PRICE.mean()"
   ]
  },
  {
   "cell_type": "markdown",
   "id": "8a4ea4de-4cb9-46df-93b9-2861369f1ab3",
   "metadata": {},
   "source": [
    "# Görev-2"
   ]
  },
  {
   "cell_type": "markdown",
   "id": "d9381be7-025d-4af4-97e5-cdacc5fdeb72",
   "metadata": {},
   "source": [
    "* COUNTRY, SOURCE, SEX, AGE kırılımında ortalama kazanç nedir?"
   ]
  },
  {
   "cell_type": "code",
   "execution_count": 88,
   "id": "9e70071a-ac47-402c-8470-4cd71ec3a2fa",
   "metadata": {},
   "outputs": [
    {
     "data": {
      "text/html": [
       "<div>\n",
       "<style scoped>\n",
       "    .dataframe tbody tr th:only-of-type {\n",
       "        vertical-align: middle;\n",
       "    }\n",
       "\n",
       "    .dataframe tbody tr th {\n",
       "        vertical-align: top;\n",
       "    }\n",
       "\n",
       "    .dataframe thead th {\n",
       "        text-align: right;\n",
       "    }\n",
       "</style>\n",
       "<table border=\"1\" class=\"dataframe\">\n",
       "  <thead>\n",
       "    <tr style=\"text-align: right;\">\n",
       "      <th></th>\n",
       "      <th></th>\n",
       "      <th></th>\n",
       "      <th></th>\n",
       "      <th>PRICE</th>\n",
       "    </tr>\n",
       "    <tr>\n",
       "      <th>COUNTRY</th>\n",
       "      <th>SOURCE</th>\n",
       "      <th>SEX</th>\n",
       "      <th>AGE</th>\n",
       "      <th></th>\n",
       "    </tr>\n",
       "  </thead>\n",
       "  <tbody>\n",
       "    <tr>\n",
       "      <th rowspan=\"5\" valign=\"top\">bra</th>\n",
       "      <th rowspan=\"5\" valign=\"top\">android</th>\n",
       "      <th rowspan=\"5\" valign=\"top\">female</th>\n",
       "      <th>15</th>\n",
       "      <td>38.714286</td>\n",
       "    </tr>\n",
       "    <tr>\n",
       "      <th>16</th>\n",
       "      <td>35.944444</td>\n",
       "    </tr>\n",
       "    <tr>\n",
       "      <th>17</th>\n",
       "      <td>35.666667</td>\n",
       "    </tr>\n",
       "    <tr>\n",
       "      <th>18</th>\n",
       "      <td>32.255814</td>\n",
       "    </tr>\n",
       "    <tr>\n",
       "      <th>19</th>\n",
       "      <td>35.206897</td>\n",
       "    </tr>\n",
       "    <tr>\n",
       "      <th>...</th>\n",
       "      <th>...</th>\n",
       "      <th>...</th>\n",
       "      <th>...</th>\n",
       "      <td>...</td>\n",
       "    </tr>\n",
       "    <tr>\n",
       "      <th rowspan=\"5\" valign=\"top\">usa</th>\n",
       "      <th rowspan=\"5\" valign=\"top\">ios</th>\n",
       "      <th rowspan=\"5\" valign=\"top\">male</th>\n",
       "      <th>42</th>\n",
       "      <td>30.250000</td>\n",
       "    </tr>\n",
       "    <tr>\n",
       "      <th>50</th>\n",
       "      <td>39.000000</td>\n",
       "    </tr>\n",
       "    <tr>\n",
       "      <th>53</th>\n",
       "      <td>34.000000</td>\n",
       "    </tr>\n",
       "    <tr>\n",
       "      <th>55</th>\n",
       "      <td>29.000000</td>\n",
       "    </tr>\n",
       "    <tr>\n",
       "      <th>59</th>\n",
       "      <td>46.500000</td>\n",
       "    </tr>\n",
       "  </tbody>\n",
       "</table>\n",
       "<p>348 rows × 1 columns</p>\n",
       "</div>"
      ],
      "text/plain": [
       "                                PRICE\n",
       "COUNTRY SOURCE  SEX    AGE           \n",
       "bra     android female 15   38.714286\n",
       "                       16   35.944444\n",
       "                       17   35.666667\n",
       "                       18   32.255814\n",
       "                       19   35.206897\n",
       "...                               ...\n",
       "usa     ios     male   42   30.250000\n",
       "                       50   39.000000\n",
       "                       53   34.000000\n",
       "                       55   29.000000\n",
       "                       59   46.500000\n",
       "\n",
       "[348 rows x 1 columns]"
      ]
     },
     "execution_count": 88,
     "metadata": {},
     "output_type": "execute_result"
    }
   ],
   "source": [
    "# df.pivot_table(\"PRICE\", [\"COUNTRY\", \"SOURCE\"], [\"SEX\", \"AGE\"])\n",
    "\n",
    "df.groupby([\"COUNTRY\", \"SOURCE\", \"SEX\", \"AGE\"]).agg({\"PRICE\":\"mean\"})"
   ]
  },
  {
   "cell_type": "markdown",
   "id": "5c112292-641f-49e2-9a61-4652a1d46209",
   "metadata": {},
   "source": [
    "# Görev-3"
   ]
  },
  {
   "cell_type": "markdown",
   "id": "149639c7-a688-4aa0-ada5-00cf6fb6d53e",
   "metadata": {},
   "source": [
    "* Önceki sorudaki çıktıyı daha iyi görebilmek için sort_values metodunu azalan olacak şekilde PRICE'a göre uygulayınız. \n",
    "* Çıktıyı agg_df olarak kaydediniz."
   ]
  },
  {
   "cell_type": "code",
   "execution_count": 100,
   "id": "09caee84-e609-4d9f-89b8-7f8f707a3ac3",
   "metadata": {},
   "outputs": [],
   "source": [
    "agg_df = df.groupby([\"COUNTRY\", \"SOURCE\", \"SEX\", \"AGE\"]).agg({\"PRICE\":\"mean\"})\n",
    "agg_df.sort_values(\"PRICE\", ascending=False, inplace=True)"
   ]
  },
  {
   "cell_type": "markdown",
   "id": "c60fd40d-8ef4-4416-b91d-40274ee146b5",
   "metadata": {},
   "source": [
    "# Görev-4"
   ]
  },
  {
   "cell_type": "markdown",
   "id": "504d6b60-5d29-45e2-8d91-88483b0e928b",
   "metadata": {},
   "source": [
    "* Üçüncü sorunun çıktısında yer alan PRICE dışındaki değişkenler index isimleridir. Bu isimleri değişken isimlerine çeviriniz."
   ]
  },
  {
   "cell_type": "code",
   "execution_count": 101,
   "id": "125d4435-ba6e-4604-bd11-d751b2482b38",
   "metadata": {},
   "outputs": [
    {
     "data": {
      "text/plain": [
       "MultiIndex([('bra', 'android',   'male', 46),\n",
       "            ('usa', 'android',   'male', 36),\n",
       "            ('fra', 'android', 'female', 24),\n",
       "            ('usa',     'ios',   'male', 32),\n",
       "            ('deu', 'android', 'female', 36),\n",
       "            ('deu', 'android', 'female', 51),\n",
       "            ('deu',     'ios',   'male', 20),\n",
       "            ('usa', 'android', 'female', 47),\n",
       "            ('fra',     'ios',   'male', 20),\n",
       "            ('usa',     'ios',   'male', 59),\n",
       "            ...\n",
       "            ('bra', 'android',   'male', 23),\n",
       "            ('tur', 'android',   'male', 21),\n",
       "            ('tur',     'ios',   'male', 47),\n",
       "            ('bra',     'ios', 'female', 34),\n",
       "            ('bra',     'ios',   'male', 47),\n",
       "            ('usa',     'ios', 'female', 38),\n",
       "            ('usa',     'ios', 'female', 30),\n",
       "            ('can', 'android', 'female', 27),\n",
       "            ('fra', 'android',   'male', 18),\n",
       "            ('deu', 'android',   'male', 26)],\n",
       "           names=['COUNTRY', 'SOURCE', 'SEX', 'AGE'], length=348)"
      ]
     },
     "execution_count": 101,
     "metadata": {},
     "output_type": "execute_result"
    }
   ],
   "source": [
    "agg_df.index"
   ]
  },
  {
   "cell_type": "code",
   "execution_count": 102,
   "id": "f05e162f-e6bc-4e06-8cd4-e75fe26f7966",
   "metadata": {},
   "outputs": [
    {
     "data": {
      "text/html": [
       "<div>\n",
       "<style scoped>\n",
       "    .dataframe tbody tr th:only-of-type {\n",
       "        vertical-align: middle;\n",
       "    }\n",
       "\n",
       "    .dataframe tbody tr th {\n",
       "        vertical-align: top;\n",
       "    }\n",
       "\n",
       "    .dataframe thead th {\n",
       "        text-align: right;\n",
       "    }\n",
       "</style>\n",
       "<table border=\"1\" class=\"dataframe\">\n",
       "  <thead>\n",
       "    <tr style=\"text-align: right;\">\n",
       "      <th></th>\n",
       "      <th>COUNTRY</th>\n",
       "      <th>SOURCE</th>\n",
       "      <th>SEX</th>\n",
       "      <th>AGE</th>\n",
       "      <th>PRICE</th>\n",
       "    </tr>\n",
       "  </thead>\n",
       "  <tbody>\n",
       "    <tr>\n",
       "      <th>0</th>\n",
       "      <td>bra</td>\n",
       "      <td>android</td>\n",
       "      <td>male</td>\n",
       "      <td>46</td>\n",
       "      <td>59.0</td>\n",
       "    </tr>\n",
       "    <tr>\n",
       "      <th>1</th>\n",
       "      <td>usa</td>\n",
       "      <td>android</td>\n",
       "      <td>male</td>\n",
       "      <td>36</td>\n",
       "      <td>59.0</td>\n",
       "    </tr>\n",
       "    <tr>\n",
       "      <th>2</th>\n",
       "      <td>fra</td>\n",
       "      <td>android</td>\n",
       "      <td>female</td>\n",
       "      <td>24</td>\n",
       "      <td>59.0</td>\n",
       "    </tr>\n",
       "    <tr>\n",
       "      <th>3</th>\n",
       "      <td>usa</td>\n",
       "      <td>ios</td>\n",
       "      <td>male</td>\n",
       "      <td>32</td>\n",
       "      <td>54.0</td>\n",
       "    </tr>\n",
       "    <tr>\n",
       "      <th>4</th>\n",
       "      <td>deu</td>\n",
       "      <td>android</td>\n",
       "      <td>female</td>\n",
       "      <td>36</td>\n",
       "      <td>49.0</td>\n",
       "    </tr>\n",
       "    <tr>\n",
       "      <th>...</th>\n",
       "      <td>...</td>\n",
       "      <td>...</td>\n",
       "      <td>...</td>\n",
       "      <td>...</td>\n",
       "      <td>...</td>\n",
       "    </tr>\n",
       "    <tr>\n",
       "      <th>343</th>\n",
       "      <td>usa</td>\n",
       "      <td>ios</td>\n",
       "      <td>female</td>\n",
       "      <td>38</td>\n",
       "      <td>19.0</td>\n",
       "    </tr>\n",
       "    <tr>\n",
       "      <th>344</th>\n",
       "      <td>usa</td>\n",
       "      <td>ios</td>\n",
       "      <td>female</td>\n",
       "      <td>30</td>\n",
       "      <td>19.0</td>\n",
       "    </tr>\n",
       "    <tr>\n",
       "      <th>345</th>\n",
       "      <td>can</td>\n",
       "      <td>android</td>\n",
       "      <td>female</td>\n",
       "      <td>27</td>\n",
       "      <td>19.0</td>\n",
       "    </tr>\n",
       "    <tr>\n",
       "      <th>346</th>\n",
       "      <td>fra</td>\n",
       "      <td>android</td>\n",
       "      <td>male</td>\n",
       "      <td>18</td>\n",
       "      <td>19.0</td>\n",
       "    </tr>\n",
       "    <tr>\n",
       "      <th>347</th>\n",
       "      <td>deu</td>\n",
       "      <td>android</td>\n",
       "      <td>male</td>\n",
       "      <td>26</td>\n",
       "      <td>9.0</td>\n",
       "    </tr>\n",
       "  </tbody>\n",
       "</table>\n",
       "<p>348 rows × 5 columns</p>\n",
       "</div>"
      ],
      "text/plain": [
       "    COUNTRY   SOURCE     SEX  AGE  PRICE\n",
       "0       bra  android    male   46   59.0\n",
       "1       usa  android    male   36   59.0\n",
       "2       fra  android  female   24   59.0\n",
       "3       usa      ios    male   32   54.0\n",
       "4       deu  android  female   36   49.0\n",
       "..      ...      ...     ...  ...    ...\n",
       "343     usa      ios  female   38   19.0\n",
       "344     usa      ios  female   30   19.0\n",
       "345     can  android  female   27   19.0\n",
       "346     fra  android    male   18   19.0\n",
       "347     deu  android    male   26    9.0\n",
       "\n",
       "[348 rows x 5 columns]"
      ]
     },
     "execution_count": 102,
     "metadata": {},
     "output_type": "execute_result"
    }
   ],
   "source": [
    "agg_df.reset_index(inplace=True)\n",
    "agg_df"
   ]
  },
  {
   "cell_type": "markdown",
   "id": "91cbffdb-3f26-453b-884b-6581df86d3f7",
   "metadata": {},
   "source": [
    "# Görev-5"
   ]
  },
  {
   "cell_type": "markdown",
   "id": "71640ed7-22ed-4aab-83e9-d4c59de81617",
   "metadata": {},
   "source": [
    "* Age sayısal değişkenini kategorik değişkene çeviriniz. \n",
    "* Aralıkları ikna edici şekilde oluşturunuz. \n",
    "* Örneğin;\n",
    "> * 0_18  \n",
    "> * 19_23  \n",
    "> * 24_30  \n",
    "> * 31_40  \n",
    "> * 41_70"
   ]
  },
  {
   "cell_type": "code",
   "execution_count": 103,
   "id": "7293940e-4125-4a61-a466-377b5a956b44",
   "metadata": {},
   "outputs": [],
   "source": [
    "agg_df[\"AGE_CAT\"] = pd.cut(agg_df.AGE, bins=[0, 18, 23, 30, 40, 70], labels = [\"0_18\", \"19_23\", \"24_30\", \"31_40\", \"41_70\"])"
   ]
  },
  {
   "cell_type": "code",
   "execution_count": 104,
   "id": "c48528b0-d79f-4783-9f44-3830ab733415",
   "metadata": {},
   "outputs": [
    {
     "data": {
      "text/html": [
       "<div>\n",
       "<style scoped>\n",
       "    .dataframe tbody tr th:only-of-type {\n",
       "        vertical-align: middle;\n",
       "    }\n",
       "\n",
       "    .dataframe tbody tr th {\n",
       "        vertical-align: top;\n",
       "    }\n",
       "\n",
       "    .dataframe thead th {\n",
       "        text-align: right;\n",
       "    }\n",
       "</style>\n",
       "<table border=\"1\" class=\"dataframe\">\n",
       "  <thead>\n",
       "    <tr style=\"text-align: right;\">\n",
       "      <th></th>\n",
       "      <th>COUNTRY</th>\n",
       "      <th>SOURCE</th>\n",
       "      <th>SEX</th>\n",
       "      <th>AGE</th>\n",
       "      <th>PRICE</th>\n",
       "      <th>AGE_CAT</th>\n",
       "    </tr>\n",
       "  </thead>\n",
       "  <tbody>\n",
       "    <tr>\n",
       "      <th>0</th>\n",
       "      <td>bra</td>\n",
       "      <td>android</td>\n",
       "      <td>male</td>\n",
       "      <td>46</td>\n",
       "      <td>59.0</td>\n",
       "      <td>41_70</td>\n",
       "    </tr>\n",
       "    <tr>\n",
       "      <th>1</th>\n",
       "      <td>usa</td>\n",
       "      <td>android</td>\n",
       "      <td>male</td>\n",
       "      <td>36</td>\n",
       "      <td>59.0</td>\n",
       "      <td>31_40</td>\n",
       "    </tr>\n",
       "    <tr>\n",
       "      <th>2</th>\n",
       "      <td>fra</td>\n",
       "      <td>android</td>\n",
       "      <td>female</td>\n",
       "      <td>24</td>\n",
       "      <td>59.0</td>\n",
       "      <td>24_30</td>\n",
       "    </tr>\n",
       "    <tr>\n",
       "      <th>3</th>\n",
       "      <td>usa</td>\n",
       "      <td>ios</td>\n",
       "      <td>male</td>\n",
       "      <td>32</td>\n",
       "      <td>54.0</td>\n",
       "      <td>31_40</td>\n",
       "    </tr>\n",
       "    <tr>\n",
       "      <th>4</th>\n",
       "      <td>deu</td>\n",
       "      <td>android</td>\n",
       "      <td>female</td>\n",
       "      <td>36</td>\n",
       "      <td>49.0</td>\n",
       "      <td>31_40</td>\n",
       "    </tr>\n",
       "  </tbody>\n",
       "</table>\n",
       "</div>"
      ],
      "text/plain": [
       "  COUNTRY   SOURCE     SEX  AGE  PRICE AGE_CAT\n",
       "0     bra  android    male   46   59.0   41_70\n",
       "1     usa  android    male   36   59.0   31_40\n",
       "2     fra  android  female   24   59.0   24_30\n",
       "3     usa      ios    male   32   54.0   31_40\n",
       "4     deu  android  female   36   49.0   31_40"
      ]
     },
     "execution_count": 104,
     "metadata": {},
     "output_type": "execute_result"
    }
   ],
   "source": [
    "agg_df.head()"
   ]
  },
  {
   "cell_type": "markdown",
   "id": "c3a656b1-4970-4bf0-a141-4f02faaf232e",
   "metadata": {},
   "source": [
    "# Görev-6"
   ]
  },
  {
   "cell_type": "markdown",
   "id": "45923be7-15bd-4221-bb7d-f414a17ec7a6",
   "metadata": {},
   "source": [
    "* Yeni seviye tabanlı müşterileri (persona) tanımlayınız.\n",
    "> * Yeni seviye tabanlı müşterileri (persona) tanımlayınız ve veri setine değişken olarak ekleyiniz.\n",
    "> * Yeni eklenecek değişkenin adı: customers_level_based\n",
    "> * Önceki soruda elde edeceğiniz çıktıdaki gözlemleri bir araya getirerek customers_level_based değişkenini oluşturmanız gerekmektedir. \n",
    "\n",
    "**NOT:**  \n",
    "Örneğin birden fazla şu ifadeden olabilir: USA_ANDROID_MALE_0_18. Bunları groupby'a alıp price ortalamalarını almak gerekmektedir.\n"
   ]
  },
  {
   "attachments": {
    "3826fdc0-3580-46ca-b751-20fe59a1deb7.png": {
     "image/png": "[encoded data removed]"
    }
   },
   "cell_type": "markdown",
   "id": "2ca833e4-7384-428d-bfec-f7857efa4eac",
   "metadata": {},
   "source": [
    "![image.png](attachment:3826fdc0-3580-46ca-b751-20fe59a1deb7.png)"
   ]
  },
  {
   "cell_type": "code",
   "execution_count": 105,
   "id": "ccf8a475-b53d-4956-b7d9-d8162c16ab19",
   "metadata": {},
   "outputs": [
    {
     "name": "stdout",
     "output_type": "stream",
     "text": [
      "<class 'pandas.core.frame.DataFrame'>\n",
      "RangeIndex: 348 entries, 0 to 347\n",
      "Data columns (total 6 columns):\n",
      " #   Column   Non-Null Count  Dtype   \n",
      "---  ------   --------------  -----   \n",
      " 0   COUNTRY  348 non-null    object  \n",
      " 1   SOURCE   348 non-null    object  \n",
      " 2   SEX      348 non-null    object  \n",
      " 3   AGE      348 non-null    int64   \n",
      " 4   PRICE    348 non-null    float64 \n",
      " 5   AGE_CAT  348 non-null    category\n",
      "dtypes: category(1), float64(1), int64(1), object(3)\n",
      "memory usage: 14.3+ KB\n"
     ]
    }
   ],
   "source": [
    "agg_df.info()"
   ]
  },
  {
   "cell_type": "code",
   "execution_count": 106,
   "id": "759f2ac7-f6ac-4f2c-9c29-35f6851fea05",
   "metadata": {},
   "outputs": [
    {
     "data": {
      "text/html": [
       "<div>\n",
       "<style scoped>\n",
       "    .dataframe tbody tr th:only-of-type {\n",
       "        vertical-align: middle;\n",
       "    }\n",
       "\n",
       "    .dataframe tbody tr th {\n",
       "        vertical-align: top;\n",
       "    }\n",
       "\n",
       "    .dataframe thead th {\n",
       "        text-align: right;\n",
       "    }\n",
       "</style>\n",
       "<table border=\"1\" class=\"dataframe\">\n",
       "  <thead>\n",
       "    <tr style=\"text-align: right;\">\n",
       "      <th></th>\n",
       "      <th>COUNTRY</th>\n",
       "      <th>SOURCE</th>\n",
       "      <th>SEX</th>\n",
       "      <th>AGE</th>\n",
       "      <th>PRICE</th>\n",
       "      <th>AGE_CAT</th>\n",
       "      <th>customer_level_based</th>\n",
       "    </tr>\n",
       "  </thead>\n",
       "  <tbody>\n",
       "    <tr>\n",
       "      <th>0</th>\n",
       "      <td>bra</td>\n",
       "      <td>android</td>\n",
       "      <td>male</td>\n",
       "      <td>46</td>\n",
       "      <td>59.0</td>\n",
       "      <td>41_70</td>\n",
       "      <td>bra_android_male_41_70</td>\n",
       "    </tr>\n",
       "    <tr>\n",
       "      <th>1</th>\n",
       "      <td>usa</td>\n",
       "      <td>android</td>\n",
       "      <td>male</td>\n",
       "      <td>36</td>\n",
       "      <td>59.0</td>\n",
       "      <td>31_40</td>\n",
       "      <td>usa_android_male_31_40</td>\n",
       "    </tr>\n",
       "    <tr>\n",
       "      <th>2</th>\n",
       "      <td>fra</td>\n",
       "      <td>android</td>\n",
       "      <td>female</td>\n",
       "      <td>24</td>\n",
       "      <td>59.0</td>\n",
       "      <td>24_30</td>\n",
       "      <td>fra_android_female_24_30</td>\n",
       "    </tr>\n",
       "    <tr>\n",
       "      <th>3</th>\n",
       "      <td>usa</td>\n",
       "      <td>ios</td>\n",
       "      <td>male</td>\n",
       "      <td>32</td>\n",
       "      <td>54.0</td>\n",
       "      <td>31_40</td>\n",
       "      <td>usa_ios_male_31_40</td>\n",
       "    </tr>\n",
       "    <tr>\n",
       "      <th>4</th>\n",
       "      <td>deu</td>\n",
       "      <td>android</td>\n",
       "      <td>female</td>\n",
       "      <td>36</td>\n",
       "      <td>49.0</td>\n",
       "      <td>31_40</td>\n",
       "      <td>deu_android_female_31_40</td>\n",
       "    </tr>\n",
       "    <tr>\n",
       "      <th>...</th>\n",
       "      <td>...</td>\n",
       "      <td>...</td>\n",
       "      <td>...</td>\n",
       "      <td>...</td>\n",
       "      <td>...</td>\n",
       "      <td>...</td>\n",
       "      <td>...</td>\n",
       "    </tr>\n",
       "    <tr>\n",
       "      <th>343</th>\n",
       "      <td>usa</td>\n",
       "      <td>ios</td>\n",
       "      <td>female</td>\n",
       "      <td>38</td>\n",
       "      <td>19.0</td>\n",
       "      <td>31_40</td>\n",
       "      <td>usa_ios_female_31_40</td>\n",
       "    </tr>\n",
       "    <tr>\n",
       "      <th>344</th>\n",
       "      <td>usa</td>\n",
       "      <td>ios</td>\n",
       "      <td>female</td>\n",
       "      <td>30</td>\n",
       "      <td>19.0</td>\n",
       "      <td>24_30</td>\n",
       "      <td>usa_ios_female_24_30</td>\n",
       "    </tr>\n",
       "    <tr>\n",
       "      <th>345</th>\n",
       "      <td>can</td>\n",
       "      <td>android</td>\n",
       "      <td>female</td>\n",
       "      <td>27</td>\n",
       "      <td>19.0</td>\n",
       "      <td>24_30</td>\n",
       "      <td>can_android_female_24_30</td>\n",
       "    </tr>\n",
       "    <tr>\n",
       "      <th>346</th>\n",
       "      <td>fra</td>\n",
       "      <td>android</td>\n",
       "      <td>male</td>\n",
       "      <td>18</td>\n",
       "      <td>19.0</td>\n",
       "      <td>0_18</td>\n",
       "      <td>fra_android_male_0_18</td>\n",
       "    </tr>\n",
       "    <tr>\n",
       "      <th>347</th>\n",
       "      <td>deu</td>\n",
       "      <td>android</td>\n",
       "      <td>male</td>\n",
       "      <td>26</td>\n",
       "      <td>9.0</td>\n",
       "      <td>24_30</td>\n",
       "      <td>deu_android_male_24_30</td>\n",
       "    </tr>\n",
       "  </tbody>\n",
       "</table>\n",
       "<p>348 rows × 7 columns</p>\n",
       "</div>"
      ],
      "text/plain": [
       "    COUNTRY   SOURCE     SEX  AGE  PRICE AGE_CAT      customer_level_based\n",
       "0       bra  android    male   46   59.0   41_70    bra_android_male_41_70\n",
       "1       usa  android    male   36   59.0   31_40    usa_android_male_31_40\n",
       "2       fra  android  female   24   59.0   24_30  fra_android_female_24_30\n",
       "3       usa      ios    male   32   54.0   31_40        usa_ios_male_31_40\n",
       "4       deu  android  female   36   49.0   31_40  deu_android_female_31_40\n",
       "..      ...      ...     ...  ...    ...     ...                       ...\n",
       "343     usa      ios  female   38   19.0   31_40      usa_ios_female_31_40\n",
       "344     usa      ios  female   30   19.0   24_30      usa_ios_female_24_30\n",
       "345     can  android  female   27   19.0   24_30  can_android_female_24_30\n",
       "346     fra  android    male   18   19.0    0_18     fra_android_male_0_18\n",
       "347     deu  android    male   26    9.0   24_30    deu_android_male_24_30\n",
       "\n",
       "[348 rows x 7 columns]"
      ]
     },
     "execution_count": 106,
     "metadata": {},
     "output_type": "execute_result"
    }
   ],
   "source": [
    "agg_df[\"customer_level_based\"] = agg_df[[\"COUNTRY\", \"SOURCE\", \"SEX\", \"AGE_CAT\"]].apply(\"_\".join, axis=1)\n",
    "agg_df"
   ]
  },
  {
   "cell_type": "code",
   "execution_count": 114,
   "id": "294fddde-d836-476f-95d3-080e37380896",
   "metadata": {},
   "outputs": [
    {
     "data": {
      "text/plain": [
       "bra_android_male_24_30      7\n",
       "usa_android_male_41_70      7\n",
       "usa_ios_female_24_30        7\n",
       "bra_android_female_24_30    7\n",
       "usa_android_male_24_30      7\n",
       "                           ..\n",
       "tur_android_male_41_70      1\n",
       "can_android_male_19_23      1\n",
       "tur_ios_male_31_40          1\n",
       "tur_ios_male_24_30          1\n",
       "can_android_female_24_30    1\n",
       "Name: customer_level_based, Length: 109, dtype: int64"
      ]
     },
     "execution_count": 114,
     "metadata": {},
     "output_type": "execute_result"
    }
   ],
   "source": [
    "agg_df.customer_level_based.value_counts() # Her biri unique olmalı"
   ]
  },
  {
   "cell_type": "code",
   "execution_count": 115,
   "id": "6ed7901a-5aa7-45fc-b7a8-1f01ecf9049d",
   "metadata": {},
   "outputs": [
    {
     "data": {
      "text/html": [
       "<div>\n",
       "<style scoped>\n",
       "    .dataframe tbody tr th:only-of-type {\n",
       "        vertical-align: middle;\n",
       "    }\n",
       "\n",
       "    .dataframe tbody tr th {\n",
       "        vertical-align: top;\n",
       "    }\n",
       "\n",
       "    .dataframe thead th {\n",
       "        text-align: right;\n",
       "    }\n",
       "</style>\n",
       "<table border=\"1\" class=\"dataframe\">\n",
       "  <thead>\n",
       "    <tr style=\"text-align: right;\">\n",
       "      <th></th>\n",
       "      <th>PRICE</th>\n",
       "    </tr>\n",
       "    <tr>\n",
       "      <th>customer_level_based</th>\n",
       "      <th></th>\n",
       "    </tr>\n",
       "  </thead>\n",
       "  <tbody>\n",
       "    <tr>\n",
       "      <th>bra_android_female_0_18</th>\n",
       "      <td>35.645303</td>\n",
       "    </tr>\n",
       "    <tr>\n",
       "      <th>bra_android_female_19_23</th>\n",
       "      <td>34.077340</td>\n",
       "    </tr>\n",
       "    <tr>\n",
       "      <th>bra_android_female_24_30</th>\n",
       "      <td>33.863946</td>\n",
       "    </tr>\n",
       "    <tr>\n",
       "      <th>bra_android_female_31_40</th>\n",
       "      <td>34.898326</td>\n",
       "    </tr>\n",
       "    <tr>\n",
       "      <th>bra_android_female_41_70</th>\n",
       "      <td>36.737179</td>\n",
       "    </tr>\n",
       "    <tr>\n",
       "      <th>...</th>\n",
       "      <td>...</td>\n",
       "    </tr>\n",
       "    <tr>\n",
       "      <th>usa_ios_male_0_18</th>\n",
       "      <td>33.983495</td>\n",
       "    </tr>\n",
       "    <tr>\n",
       "      <th>usa_ios_male_19_23</th>\n",
       "      <td>34.901872</td>\n",
       "    </tr>\n",
       "    <tr>\n",
       "      <th>usa_ios_male_24_30</th>\n",
       "      <td>34.838143</td>\n",
       "    </tr>\n",
       "    <tr>\n",
       "      <th>usa_ios_male_31_40</th>\n",
       "      <td>36.206324</td>\n",
       "    </tr>\n",
       "    <tr>\n",
       "      <th>usa_ios_male_41_70</th>\n",
       "      <td>35.750000</td>\n",
       "    </tr>\n",
       "  </tbody>\n",
       "</table>\n",
       "<p>109 rows × 1 columns</p>\n",
       "</div>"
      ],
      "text/plain": [
       "                              PRICE\n",
       "customer_level_based               \n",
       "bra_android_female_0_18   35.645303\n",
       "bra_android_female_19_23  34.077340\n",
       "bra_android_female_24_30  33.863946\n",
       "bra_android_female_31_40  34.898326\n",
       "bra_android_female_41_70  36.737179\n",
       "...                             ...\n",
       "usa_ios_male_0_18         33.983495\n",
       "usa_ios_male_19_23        34.901872\n",
       "usa_ios_male_24_30        34.838143\n",
       "usa_ios_male_31_40        36.206324\n",
       "usa_ios_male_41_70        35.750000\n",
       "\n",
       "[109 rows x 1 columns]"
      ]
     },
     "execution_count": 115,
     "metadata": {},
     "output_type": "execute_result"
    }
   ],
   "source": [
    "new_persona = agg_df.groupby(\"customer_level_based\").agg({\"PRICE\":\"mean\"})\n",
    "new_persona."
   ]
  },
  {
   "cell_type": "code",
   "execution_count": 116,
   "id": "d2da7608-38ec-4a56-9717-913bf88c1081",
   "metadata": {},
   "outputs": [],
   "source": [
    "new_persona.reset_index(inplace=True)"
   ]
  },
  {
   "cell_type": "code",
   "execution_count": 118,
   "id": "d782f228-0079-432a-a24e-a961dfdecda2",
   "metadata": {},
   "outputs": [
    {
     "data": {
      "text/plain": [
       "bra_android_female_0_18    1\n",
       "tur_android_female_0_18    1\n",
       "tur_ios_female_19_23       1\n",
       "tur_ios_female_0_18        1\n",
       "tur_android_male_41_70     1\n",
       "                          ..\n",
       "can_ios_male_41_70         1\n",
       "can_ios_male_31_40         1\n",
       "can_ios_male_24_30         1\n",
       "can_ios_male_0_18          1\n",
       "usa_ios_male_41_70         1\n",
       "Name: customer_level_based, Length: 109, dtype: int64"
      ]
     },
     "execution_count": 118,
     "metadata": {},
     "output_type": "execute_result"
    }
   ],
   "source": [
    "new_persona.customer_level_based.value_counts() # Her biri unique sınıflar elde ettik."
   ]
  },
  {
   "cell_type": "code",
   "execution_count": 124,
   "id": "506cd2fe-a9dd-46d8-9347-9a4f6646d33f",
   "metadata": {},
   "outputs": [],
   "source": [
    "new_persona[\"customer_level_based\"] = new_persona.customer_level_based.apply(lambda x: x.upper())"
   ]
  },
  {
   "cell_type": "code",
   "execution_count": 125,
   "id": "55bf88b0-e2cb-413b-9488-00f04d949c78",
   "metadata": {},
   "outputs": [
    {
     "data": {
      "text/html": [
       "<div>\n",
       "<style scoped>\n",
       "    .dataframe tbody tr th:only-of-type {\n",
       "        vertical-align: middle;\n",
       "    }\n",
       "\n",
       "    .dataframe tbody tr th {\n",
       "        vertical-align: top;\n",
       "    }\n",
       "\n",
       "    .dataframe thead th {\n",
       "        text-align: right;\n",
       "    }\n",
       "</style>\n",
       "<table border=\"1\" class=\"dataframe\">\n",
       "  <thead>\n",
       "    <tr style=\"text-align: right;\">\n",
       "      <th></th>\n",
       "      <th>customer_level_based</th>\n",
       "      <th>PRICE</th>\n",
       "    </tr>\n",
       "  </thead>\n",
       "  <tbody>\n",
       "    <tr>\n",
       "      <th>0</th>\n",
       "      <td>BRA_ANDROID_FEMALE_0_18</td>\n",
       "      <td>35.645303</td>\n",
       "    </tr>\n",
       "    <tr>\n",
       "      <th>1</th>\n",
       "      <td>BRA_ANDROID_FEMALE_19_23</td>\n",
       "      <td>34.077340</td>\n",
       "    </tr>\n",
       "    <tr>\n",
       "      <th>2</th>\n",
       "      <td>BRA_ANDROID_FEMALE_24_30</td>\n",
       "      <td>33.863946</td>\n",
       "    </tr>\n",
       "    <tr>\n",
       "      <th>3</th>\n",
       "      <td>BRA_ANDROID_FEMALE_31_40</td>\n",
       "      <td>34.898326</td>\n",
       "    </tr>\n",
       "    <tr>\n",
       "      <th>4</th>\n",
       "      <td>BRA_ANDROID_FEMALE_41_70</td>\n",
       "      <td>36.737179</td>\n",
       "    </tr>\n",
       "    <tr>\n",
       "      <th>5</th>\n",
       "      <td>BRA_ANDROID_MALE_0_18</td>\n",
       "      <td>34.805861</td>\n",
       "    </tr>\n",
       "    <tr>\n",
       "      <th>6</th>\n",
       "      <td>BRA_ANDROID_MALE_19_23</td>\n",
       "      <td>31.673243</td>\n",
       "    </tr>\n",
       "    <tr>\n",
       "      <th>7</th>\n",
       "      <td>BRA_ANDROID_MALE_24_30</td>\n",
       "      <td>33.413919</td>\n",
       "    </tr>\n",
       "    <tr>\n",
       "      <th>8</th>\n",
       "      <td>BRA_ANDROID_MALE_31_40</td>\n",
       "      <td>34.327381</td>\n",
       "    </tr>\n",
       "    <tr>\n",
       "      <th>9</th>\n",
       "      <td>BRA_ANDROID_MALE_41_70</td>\n",
       "      <td>40.041667</td>\n",
       "    </tr>\n",
       "  </tbody>\n",
       "</table>\n",
       "</div>"
      ],
      "text/plain": [
       "       customer_level_based      PRICE\n",
       "0   BRA_ANDROID_FEMALE_0_18  35.645303\n",
       "1  BRA_ANDROID_FEMALE_19_23  34.077340\n",
       "2  BRA_ANDROID_FEMALE_24_30  33.863946\n",
       "3  BRA_ANDROID_FEMALE_31_40  34.898326\n",
       "4  BRA_ANDROID_FEMALE_41_70  36.737179\n",
       "5     BRA_ANDROID_MALE_0_18  34.805861\n",
       "6    BRA_ANDROID_MALE_19_23  31.673243\n",
       "7    BRA_ANDROID_MALE_24_30  33.413919\n",
       "8    BRA_ANDROID_MALE_31_40  34.327381\n",
       "9    BRA_ANDROID_MALE_41_70  40.041667"
      ]
     },
     "execution_count": 125,
     "metadata": {},
     "output_type": "execute_result"
    }
   ],
   "source": [
    "new_persona.head(10)"
   ]
  },
  {
   "cell_type": "markdown",
   "id": "26321683-c173-48c0-98da-256bf8cc0d5b",
   "metadata": {},
   "source": [
    "# Görev-7"
   ]
  },
  {
   "cell_type": "markdown",
   "id": "286394f6-9631-4da6-b5e6-d3be80f38776",
   "metadata": {},
   "source": [
    "* Yeni müşterileri (personaları) segmentlere ayırınız. \n",
    "> * Yeni müşterileri (Örnek: USA_ANDROID_MALE_0_18) PRICE’a göre 4 segmente ayırınız. \n",
    "> * Segmentleri SEGMENT isimlendirmesi ile değişken olarak agg_df’e ekleyiniz. \n",
    "> * Segmentleri betimleyiniz (Segmentlere göre group by yapıp price mean, max, sum’larını alınız)"
   ]
  },
  {
   "cell_type": "code",
   "execution_count": 126,
   "id": "5d6e1843-1996-4fb8-bf80-be5cfe301daf",
   "metadata": {},
   "outputs": [
    {
     "data": {
      "text/html": [
       "<div>\n",
       "<style scoped>\n",
       "    .dataframe tbody tr th:only-of-type {\n",
       "        vertical-align: middle;\n",
       "    }\n",
       "\n",
       "    .dataframe tbody tr th {\n",
       "        vertical-align: top;\n",
       "    }\n",
       "\n",
       "    .dataframe thead th {\n",
       "        text-align: right;\n",
       "    }\n",
       "</style>\n",
       "<table border=\"1\" class=\"dataframe\">\n",
       "  <thead>\n",
       "    <tr style=\"text-align: right;\">\n",
       "      <th></th>\n",
       "      <th>customer_level_based</th>\n",
       "      <th>PRICE</th>\n",
       "      <th>SEGMENT</th>\n",
       "    </tr>\n",
       "  </thead>\n",
       "  <tbody>\n",
       "    <tr>\n",
       "      <th>0</th>\n",
       "      <td>BRA_ANDROID_FEMALE_0_18</td>\n",
       "      <td>35.645303</td>\n",
       "      <td>B</td>\n",
       "    </tr>\n",
       "    <tr>\n",
       "      <th>1</th>\n",
       "      <td>BRA_ANDROID_FEMALE_19_23</td>\n",
       "      <td>34.077340</td>\n",
       "      <td>C</td>\n",
       "    </tr>\n",
       "    <tr>\n",
       "      <th>2</th>\n",
       "      <td>BRA_ANDROID_FEMALE_24_30</td>\n",
       "      <td>33.863946</td>\n",
       "      <td>C</td>\n",
       "    </tr>\n",
       "    <tr>\n",
       "      <th>3</th>\n",
       "      <td>BRA_ANDROID_FEMALE_31_40</td>\n",
       "      <td>34.898326</td>\n",
       "      <td>B</td>\n",
       "    </tr>\n",
       "    <tr>\n",
       "      <th>4</th>\n",
       "      <td>BRA_ANDROID_FEMALE_41_70</td>\n",
       "      <td>36.737179</td>\n",
       "      <td>A</td>\n",
       "    </tr>\n",
       "    <tr>\n",
       "      <th>...</th>\n",
       "      <td>...</td>\n",
       "      <td>...</td>\n",
       "      <td>...</td>\n",
       "    </tr>\n",
       "    <tr>\n",
       "      <th>104</th>\n",
       "      <td>USA_IOS_MALE_0_18</td>\n",
       "      <td>33.983495</td>\n",
       "      <td>C</td>\n",
       "    </tr>\n",
       "    <tr>\n",
       "      <th>105</th>\n",
       "      <td>USA_IOS_MALE_19_23</td>\n",
       "      <td>34.901872</td>\n",
       "      <td>B</td>\n",
       "    </tr>\n",
       "    <tr>\n",
       "      <th>106</th>\n",
       "      <td>USA_IOS_MALE_24_30</td>\n",
       "      <td>34.838143</td>\n",
       "      <td>B</td>\n",
       "    </tr>\n",
       "    <tr>\n",
       "      <th>107</th>\n",
       "      <td>USA_IOS_MALE_31_40</td>\n",
       "      <td>36.206324</td>\n",
       "      <td>A</td>\n",
       "    </tr>\n",
       "    <tr>\n",
       "      <th>108</th>\n",
       "      <td>USA_IOS_MALE_41_70</td>\n",
       "      <td>35.750000</td>\n",
       "      <td>B</td>\n",
       "    </tr>\n",
       "  </tbody>\n",
       "</table>\n",
       "<p>109 rows × 3 columns</p>\n",
       "</div>"
      ],
      "text/plain": [
       "         customer_level_based      PRICE SEGMENT\n",
       "0     BRA_ANDROID_FEMALE_0_18  35.645303       B\n",
       "1    BRA_ANDROID_FEMALE_19_23  34.077340       C\n",
       "2    BRA_ANDROID_FEMALE_24_30  33.863946       C\n",
       "3    BRA_ANDROID_FEMALE_31_40  34.898326       B\n",
       "4    BRA_ANDROID_FEMALE_41_70  36.737179       A\n",
       "..                        ...        ...     ...\n",
       "104         USA_IOS_MALE_0_18  33.983495       C\n",
       "105        USA_IOS_MALE_19_23  34.901872       B\n",
       "106        USA_IOS_MALE_24_30  34.838143       B\n",
       "107        USA_IOS_MALE_31_40  36.206324       A\n",
       "108        USA_IOS_MALE_41_70  35.750000       B\n",
       "\n",
       "[109 rows x 3 columns]"
      ]
     },
     "execution_count": 126,
     "metadata": {},
     "output_type": "execute_result"
    }
   ],
   "source": [
    "new_persona[\"SEGMENT\"] = pd.qcut(new_persona[\"PRICE\"], 4, labels = [\"D\", \"C\", \"B\", \"A\"])\n",
    "new_persona"
   ]
  },
  {
   "cell_type": "code",
   "execution_count": 128,
   "id": "23d0623f-206c-4507-b2be-15803e1ef00b",
   "metadata": {},
   "outputs": [
    {
     "data": {
      "text/html": [
       "<div>\n",
       "<style scoped>\n",
       "    .dataframe tbody tr th:only-of-type {\n",
       "        vertical-align: middle;\n",
       "    }\n",
       "\n",
       "    .dataframe tbody tr th {\n",
       "        vertical-align: top;\n",
       "    }\n",
       "\n",
       "    .dataframe thead tr th {\n",
       "        text-align: left;\n",
       "    }\n",
       "\n",
       "    .dataframe thead tr:last-of-type th {\n",
       "        text-align: right;\n",
       "    }\n",
       "</style>\n",
       "<table border=\"1\" class=\"dataframe\">\n",
       "  <thead>\n",
       "    <tr>\n",
       "      <th></th>\n",
       "      <th colspan=\"3\" halign=\"left\">PRICE</th>\n",
       "    </tr>\n",
       "    <tr>\n",
       "      <th></th>\n",
       "      <th>mean</th>\n",
       "      <th>max</th>\n",
       "      <th>sum</th>\n",
       "    </tr>\n",
       "    <tr>\n",
       "      <th>SEGMENT</th>\n",
       "      <th></th>\n",
       "      <th></th>\n",
       "      <th></th>\n",
       "    </tr>\n",
       "  </thead>\n",
       "  <tbody>\n",
       "    <tr>\n",
       "      <th>D</th>\n",
       "      <td>29.206780</td>\n",
       "      <td>32.333333</td>\n",
       "      <td>817.789833</td>\n",
       "    </tr>\n",
       "    <tr>\n",
       "      <th>C</th>\n",
       "      <td>33.509674</td>\n",
       "      <td>34.077340</td>\n",
       "      <td>904.761209</td>\n",
       "    </tr>\n",
       "    <tr>\n",
       "      <th>B</th>\n",
       "      <td>34.999645</td>\n",
       "      <td>36.000000</td>\n",
       "      <td>944.990411</td>\n",
       "    </tr>\n",
       "    <tr>\n",
       "      <th>A</th>\n",
       "      <td>38.691234</td>\n",
       "      <td>45.428571</td>\n",
       "      <td>1044.663328</td>\n",
       "    </tr>\n",
       "  </tbody>\n",
       "</table>\n",
       "</div>"
      ],
      "text/plain": [
       "             PRICE                        \n",
       "              mean        max          sum\n",
       "SEGMENT                                   \n",
       "D        29.206780  32.333333   817.789833\n",
       "C        33.509674  34.077340   904.761209\n",
       "B        34.999645  36.000000   944.990411\n",
       "A        38.691234  45.428571  1044.663328"
      ]
     },
     "execution_count": 128,
     "metadata": {},
     "output_type": "execute_result"
    }
   ],
   "source": [
    "new_persona.groupby(\"SEGMENT\").agg({\"PRICE\":[\"mean\", \"max\", \"sum\"]})"
   ]
  },
  {
   "cell_type": "markdown",
   "id": "cad29623-304f-4114-ba2e-ab3f6d71f526",
   "metadata": {},
   "source": [
    "# Görev-8"
   ]
  },
  {
   "cell_type": "markdown",
   "id": "897712f4-a287-4f2c-af18-01c6049fc345",
   "metadata": {},
   "source": [
    "* Yeni gelen müşterileri sınıflandırıp, ne kadar gelir getirebileceklerini tahmin ediniz. \n",
    "> * 33 yaşında ANDROID kullanan bir Türk kadını hangi segmente aittir ve ortalama ne kadar gelir kazandırması beklenir? \n",
    "> * 35 yaşında IOS kullanan bir Fransız kadını hangi segmente aittir ve ortalama ne kadar gelir kazandırması beklenir?"
   ]
  },
  {
   "cell_type": "code",
   "execution_count": 129,
   "id": "5df7d9db-3097-4361-9d28-c7457c1a647f",
   "metadata": {},
   "outputs": [
    {
     "data": {
      "text/html": [
       "<div>\n",
       "<style scoped>\n",
       "    .dataframe tbody tr th:only-of-type {\n",
       "        vertical-align: middle;\n",
       "    }\n",
       "\n",
       "    .dataframe tbody tr th {\n",
       "        vertical-align: top;\n",
       "    }\n",
       "\n",
       "    .dataframe thead th {\n",
       "        text-align: right;\n",
       "    }\n",
       "</style>\n",
       "<table border=\"1\" class=\"dataframe\">\n",
       "  <thead>\n",
       "    <tr style=\"text-align: right;\">\n",
       "      <th></th>\n",
       "      <th>customer_level_based</th>\n",
       "      <th>PRICE</th>\n",
       "      <th>SEGMENT</th>\n",
       "    </tr>\n",
       "  </thead>\n",
       "  <tbody>\n",
       "    <tr>\n",
       "      <th>72</th>\n",
       "      <td>TUR_ANDROID_FEMALE_31_40</td>\n",
       "      <td>41.833333</td>\n",
       "      <td>A</td>\n",
       "    </tr>\n",
       "  </tbody>\n",
       "</table>\n",
       "</div>"
      ],
      "text/plain": [
       "        customer_level_based      PRICE SEGMENT\n",
       "72  TUR_ANDROID_FEMALE_31_40  41.833333       A"
      ]
     },
     "execution_count": 129,
     "metadata": {},
     "output_type": "execute_result"
    }
   ],
   "source": [
    "# 33 yaş ANDROID Türk Kadın\n",
    "user1 = \"TUR_ANDROID_FEMALE_31_40\"\n",
    "\n",
    "new_persona[new_persona.customer_level_based == user1]"
   ]
  },
  {
   "cell_type": "code",
   "execution_count": 131,
   "id": "f6d2e912-f699-41bd-87b9-1a44f1a1c551",
   "metadata": {},
   "outputs": [
    {
     "data": {
      "text/html": [
       "<div>\n",
       "<style scoped>\n",
       "    .dataframe tbody tr th:only-of-type {\n",
       "        vertical-align: middle;\n",
       "    }\n",
       "\n",
       "    .dataframe tbody tr th {\n",
       "        vertical-align: top;\n",
       "    }\n",
       "\n",
       "    .dataframe thead th {\n",
       "        text-align: right;\n",
       "    }\n",
       "</style>\n",
       "<table border=\"1\" class=\"dataframe\">\n",
       "  <thead>\n",
       "    <tr style=\"text-align: right;\">\n",
       "      <th></th>\n",
       "      <th>customer_level_based</th>\n",
       "      <th>PRICE</th>\n",
       "      <th>SEGMENT</th>\n",
       "    </tr>\n",
       "  </thead>\n",
       "  <tbody>\n",
       "    <tr>\n",
       "      <th>63</th>\n",
       "      <td>FRA_IOS_FEMALE_31_40</td>\n",
       "      <td>32.818182</td>\n",
       "      <td>C</td>\n",
       "    </tr>\n",
       "  </tbody>\n",
       "</table>\n",
       "</div>"
      ],
      "text/plain": [
       "    customer_level_based      PRICE SEGMENT\n",
       "63  FRA_IOS_FEMALE_31_40  32.818182       C"
      ]
     },
     "execution_count": 131,
     "metadata": {},
     "output_type": "execute_result"
    }
   ],
   "source": [
    "# 35 yaş IOS Fransız Kadın\n",
    "user2 = \"FRA_IOS_FEMALE_31_40\"\n",
    "\n",
    "new_persona[new_persona.customer_level_based == user2]"
   ]
  },
  {
   "cell_type": "code",
   "execution_count": null,
   "id": "a864c9bc-b5f2-4410-874a-a7d00a4a9e90",
   "metadata": {},
   "outputs": [],
   "source": []
  }
 ],
 "metadata": {
  "kernelspec": {
   "display_name": "Python 3 (ipykernel)",
   "language": "python",
   "name": "python3"
  },
  "language_info": {
   "codemirror_mode": {
    "name": "ipython",
    "version": 3
   },
   "file_extension": ".py",
   "mimetype": "text/x-python",
   "name": "python",
   "nbconvert_exporter": "python",
   "pygments_lexer": "ipython3",
   "version": "3.9.7"
  }
 },
 "nbformat": 4,
 "nbformat_minor": 5
}
